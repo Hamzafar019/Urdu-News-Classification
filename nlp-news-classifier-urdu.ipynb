{
 "cells": [
  {
   "cell_type": "code",
   "execution_count": 1,
   "id": "5f80a2b9",
   "metadata": {
    "_cell_guid": "b1076dfc-b9ad-4769-8c92-a6c4dae69d19",
    "_uuid": "8f2839f25d086af736a60e9eeb907d3b93b6e0e5",
    "execution": {
     "iopub.execute_input": "2023-12-10T21:02:09.355193Z",
     "iopub.status.busy": "2023-12-10T21:02:09.354773Z",
     "iopub.status.idle": "2023-12-10T21:02:10.164820Z",
     "shell.execute_reply": "2023-12-10T21:02:10.163415Z"
    },
    "papermill": {
     "duration": 0.828265,
     "end_time": "2023-12-10T21:02:10.167016",
     "exception": false,
     "start_time": "2023-12-10T21:02:09.338751",
     "status": "completed"
    },
    "tags": []
   },
   "outputs": [
    {
     "name": "stdout",
     "output_type": "stream",
     "text": [
      "/kaggle/input/nlp-urdu-news-classifier-model/NLP_URDU_NEWS_CLASSIFIER_MODEL.keras\n",
      "/kaggle/input/nlp-urdu-news-classifier-model/NLP_URDU_NEWS_CLASSIFIER_MODEL.h5\n",
      "/kaggle/input/kaggle/kaggle.json\n"
     ]
    }
   ],
   "source": [
    "# This Python 3 environment comes with many helpful analytics libraries installed\n",
    "# It is defined by the kaggle/python Docker image: https://github.com/kaggle/docker-python\n",
    "# For example, here's several helpful packages to load\n",
    "\n",
    "import numpy as np # linear algebra\n",
    "import pandas as pd # data processing, CSV file I/O (e.g. pd.read_csv)\n",
    "\n",
    "# Input data files are available in the read-only \"../input/\" directory\n",
    "# For example, running this (by clicking run or pressing Shift+Enter) will list all files under the input directory\n",
    "\n",
    "import os\n",
    "for dirname, _, filenames in os.walk('/kaggle/input'):\n",
    "    for filename in filenames:\n",
    "        print(os.path.join(dirname, filename))\n",
    "\n",
    "# You can write up to 20GB to the current directory (/kaggle/working/) that gets preserved as output when you create a version using \"Save & Run All\" \n",
    "# You can also write temporary files to /kaggle/temp/, but they won't be saved outside of the current session"
   ]
  },
  {
   "cell_type": "code",
   "execution_count": null,
   "id": "375733ce",
   "metadata": {
    "papermill": {
     "duration": 0.014456,
     "end_time": "2023-12-10T21:02:10.196520",
     "exception": false,
     "start_time": "2023-12-10T21:02:10.182064",
     "status": "completed"
    },
    "tags": []
   },
   "outputs": [],
   "source": []
  },
  {
   "cell_type": "code",
   "execution_count": 2,
   "id": "b7789439",
   "metadata": {
    "execution": {
     "iopub.execute_input": "2023-12-10T21:02:10.226602Z",
     "iopub.status.busy": "2023-12-10T21:02:10.225880Z",
     "iopub.status.idle": "2023-12-10T21:02:13.088120Z",
     "shell.execute_reply": "2023-12-10T21:02:13.086942Z"
    },
    "papermill": {
     "duration": 2.87982,
     "end_time": "2023-12-10T21:02:13.090629",
     "exception": false,
     "start_time": "2023-12-10T21:02:10.210809",
     "status": "completed"
    },
    "tags": []
   },
   "outputs": [],
   "source": [
    "!mkdir ~/.kaggle\n",
    "!cp /kaggle/input/kaggle/kaggle.json ~/.kaggle/\n",
    "!chmod 600 ~/.kaggle/kaggle.json\n"
   ]
  },
  {
   "cell_type": "code",
   "execution_count": 3,
   "id": "ec2c7c72",
   "metadata": {
    "execution": {
     "iopub.execute_input": "2023-12-10T21:02:13.120595Z",
     "iopub.status.busy": "2023-12-10T21:02:13.120269Z",
     "iopub.status.idle": "2023-12-10T21:02:18.157787Z",
     "shell.execute_reply": "2023-12-10T21:02:18.156692Z"
    },
    "papermill": {
     "duration": 5.055238,
     "end_time": "2023-12-10T21:02:18.160322",
     "exception": false,
     "start_time": "2023-12-10T21:02:13.105084",
     "status": "completed"
    },
    "tags": []
   },
   "outputs": [
    {
     "name": "stdout",
     "output_type": "stream",
     "text": [
      "Downloading urdu-news-dataset.zip to /kaggle/working\r\n",
      " 69%|███████████████████████████            | 43.0M/62.0M [00:00<00:00, 234MB/s]\r\n",
      "100%|███████████████████████████████████████| 62.0M/62.0M [00:00<00:00, 244MB/s]\r\n"
     ]
    }
   ],
   "source": [
    "# Downloading dataset and unzipping it\n",
    "!kaggle datasets download -d saurabhshahane/urdu-news-dataset\n",
    "# !kaggle datasets download -d rmisra/news-category-dataset\n",
    "!unzip -q urdu-news-dataset.zip -d ./urdu-news-dataset"
   ]
  },
  {
   "cell_type": "code",
   "execution_count": 4,
   "id": "95f97548",
   "metadata": {
    "execution": {
     "iopub.execute_input": "2023-12-10T21:02:18.191423Z",
     "iopub.status.busy": "2023-12-10T21:02:18.191087Z",
     "iopub.status.idle": "2023-12-10T21:02:32.580712Z",
     "shell.execute_reply": "2023-12-10T21:02:32.579868Z"
    },
    "papermill": {
     "duration": 14.40808,
     "end_time": "2023-12-10T21:02:32.583142",
     "exception": false,
     "start_time": "2023-12-10T21:02:18.175062",
     "status": "completed"
    },
    "tags": []
   },
   "outputs": [
    {
     "name": "stderr",
     "output_type": "stream",
     "text": [
      "/opt/conda/lib/python3.10/site-packages/scipy/__init__.py:146: UserWarning: A NumPy version >=1.16.5 and <1.23.0 is required for this version of SciPy (detected version 1.24.3\n",
      "  warnings.warn(f\"A NumPy version >={np_minversion} and <{np_maxversion}\"\n"
     ]
    },
    {
     "name": "stdout",
     "output_type": "stream",
     "text": [
      "[nltk_data] Downloading package punkt to /usr/share/nltk_data...\n",
      "[nltk_data]   Package punkt is already up-to-date!\n"
     ]
    }
   ],
   "source": [
    "import matplotlib.pyplot as plt\n",
    "import seaborn as sns\n",
    "import pandas as pd\n",
    "import nltk\n",
    "from nltk.tokenize import word_tokenize\n",
    "nltk.download(\"punkt\")\n",
    "import numpy as np\n",
    "# from gensim.models import Word2Vec\n",
    "from sklearn.model_selection import train_test_split\n",
    "from sklearn.linear_model import LogisticRegression\n",
    "from sklearn.metrics import accuracy_score\n",
    "import tensorflow as tf\n",
    "from tensorflow.keras.layers import Embedding, LSTM, Dense, Bidirectional\n",
    "from tensorflow.keras.models import Sequential\n",
    "from tensorflow.keras.preprocessing.text import Tokenizer\n",
    "from tensorflow.keras.preprocessing.sequence import pad_sequences\n",
    "from tensorflow.keras.utils import to_categorical\n",
    "from sklearn.preprocessing import LabelEncoder\n",
    "from keras.layers import Dropout\n",
    "from tensorflow.keras.models import load_model"
   ]
  },
  {
   "cell_type": "code",
   "execution_count": 5,
   "id": "ee4f7c0d",
   "metadata": {
    "execution": {
     "iopub.execute_input": "2023-12-10T21:02:32.614934Z",
     "iopub.status.busy": "2023-12-10T21:02:32.614370Z",
     "iopub.status.idle": "2023-12-10T21:02:39.242770Z",
     "shell.execute_reply": "2023-12-10T21:02:39.241698Z"
    },
    "papermill": {
     "duration": 6.646224,
     "end_time": "2023-12-10T21:02:39.245009",
     "exception": false,
     "start_time": "2023-12-10T21:02:32.598785",
     "status": "completed"
    },
    "tags": []
   },
   "outputs": [
    {
     "name": "stdout",
     "output_type": "stream",
     "text": [
      "Tokenization took: 3022.72 ms\n",
      "Type conversion took: 1447.77 ms\n",
      "Parser memory cleanup took: 0.01 ms\n",
      "Tokenization took: 1443.20 ms\n",
      "Type conversion took: 660.59 ms\n",
      "Parser memory cleanup took: 0.01 ms\n"
     ]
    }
   ],
   "source": [
    "df = pd.read_csv(\"urdu-news-dataset/urdu-news-dataset-1M.csv\", verbose=True, encoding='ascii', encoding_errors='surrogateescape')\n"
   ]
  },
  {
   "cell_type": "code",
   "execution_count": 6,
   "id": "1266b581",
   "metadata": {
    "execution": {
     "iopub.execute_input": "2023-12-10T21:02:39.276477Z",
     "iopub.status.busy": "2023-12-10T21:02:39.276172Z",
     "iopub.status.idle": "2023-12-10T21:02:39.298039Z",
     "shell.execute_reply": "2023-12-10T21:02:39.297135Z"
    },
    "papermill": {
     "duration": 0.03972,
     "end_time": "2023-12-10T21:02:39.300159",
     "exception": false,
     "start_time": "2023-12-10T21:02:39.260439",
     "status": "completed"
    },
    "tags": []
   },
   "outputs": [
    {
     "data": {
      "text/html": [
       "<div>\n",
       "<style scoped>\n",
       "    .dataframe tbody tr th:only-of-type {\n",
       "        vertical-align: middle;\n",
       "    }\n",
       "\n",
       "    .dataframe tbody tr th {\n",
       "        vertical-align: top;\n",
       "    }\n",
       "\n",
       "    .dataframe thead th {\n",
       "        text-align: right;\n",
       "    }\n",
       "</style>\n",
       "<table border=\"1\" class=\"dataframe\">\n",
       "  <thead>\n",
       "    <tr style=\"text-align: right;\">\n",
       "      <th></th>\n",
       "      <th>Index</th>\n",
       "      <th>Headline</th>\n",
       "      <th>News Text</th>\n",
       "      <th>Category</th>\n",
       "      <th>Date</th>\n",
       "      <th>URL</th>\n",
       "      <th>Source</th>\n",
       "      <th>News length</th>\n",
       "    </tr>\n",
       "  </thead>\n",
       "  <tbody>\n",
       "    <tr>\n",
       "      <th>0</th>\n",
       "      <td>0</td>\n",
       "      <td>عالمی بینک عسکریت پسندی سے متاثرہ خاندانوں کی ...</td>\n",
       "      <td>اسلام باد عالمی بینک خیبرپختونخوا کے قبائلی اض...</td>\n",
       "      <td>Business &amp; Economics</td>\n",
       "      <td>2020-12-06</td>\n",
       "      <td>https://www.dawnnews.tv/news/1148499/</td>\n",
       "      <td>Dawn News</td>\n",
       "      <td>1854.0</td>\n",
       "    </tr>\n",
       "    <tr>\n",
       "      <th>1</th>\n",
       "      <td>1</td>\n",
       "      <td>مالی سال 2020 ریٹرن فائل کرنے والوں کی تعداد م...</td>\n",
       "      <td>اسلام باد فیڈرل بورڈ ریونیو ایف بی نے دسمبر کی...</td>\n",
       "      <td>Business &amp; Economics</td>\n",
       "      <td>2020-12-06</td>\n",
       "      <td>https://www.dawnnews.tv/news/1148498/</td>\n",
       "      <td>Dawn News</td>\n",
       "      <td>2016.0</td>\n",
       "    </tr>\n",
       "    <tr>\n",
       "      <th>2</th>\n",
       "      <td>2</td>\n",
       "      <td>جاپان کو سندھ کے خصوصی اقتصادی زون میں سرمایہ ...</td>\n",
       "      <td>اسلام باد بورڈ انویسٹمنٹ بی او ئی کے چیئرمین ع...</td>\n",
       "      <td>Business &amp; Economics</td>\n",
       "      <td>2020-12-05</td>\n",
       "      <td>https://www.dawnnews.tv/news/1148433/</td>\n",
       "      <td>Dawn News</td>\n",
       "      <td>2195.0</td>\n",
       "    </tr>\n",
       "    <tr>\n",
       "      <th>3</th>\n",
       "      <td>3</td>\n",
       "      <td>برامدات 767 فیصد بڑھ کر ارب 16 کروڑ ڈالر سے زائد</td>\n",
       "      <td>اسلام اباد پاکستان میں ماہ نومبر میں مسلسل تیس...</td>\n",
       "      <td>Business &amp; Economics</td>\n",
       "      <td>2020-12-05</td>\n",
       "      <td>https://www.dawnnews.tv/news/1148430/</td>\n",
       "      <td>Dawn News</td>\n",
       "      <td>2349.0</td>\n",
       "    </tr>\n",
       "    <tr>\n",
       "      <th>4</th>\n",
       "      <td>4</td>\n",
       "      <td>کے الیکٹرک کو اضافی بجلی گیس کی فراہمی کے قانو...</td>\n",
       "      <td>اسلام باد نیشنل ٹرانسمیشن اینڈ ڈسپیچ کمپنی این...</td>\n",
       "      <td>Business &amp; Economics</td>\n",
       "      <td>2020-12-05</td>\n",
       "      <td>https://www.dawnnews.tv/news/1148421/</td>\n",
       "      <td>Dawn News</td>\n",
       "      <td>2655.0</td>\n",
       "    </tr>\n",
       "  </tbody>\n",
       "</table>\n",
       "</div>"
      ],
      "text/plain": [
       "   Index                                           Headline  \\\n",
       "0      0  عالمی بینک عسکریت پسندی سے متاثرہ خاندانوں کی ...   \n",
       "1      1  مالی سال 2020 ریٹرن فائل کرنے والوں کی تعداد م...   \n",
       "2      2  جاپان کو سندھ کے خصوصی اقتصادی زون میں سرمایہ ...   \n",
       "3      3   برامدات 767 فیصد بڑھ کر ارب 16 کروڑ ڈالر سے زائد   \n",
       "4      4  کے الیکٹرک کو اضافی بجلی گیس کی فراہمی کے قانو...   \n",
       "\n",
       "                                           News Text              Category  \\\n",
       "0  اسلام باد عالمی بینک خیبرپختونخوا کے قبائلی اض...  Business & Economics   \n",
       "1  اسلام باد فیڈرل بورڈ ریونیو ایف بی نے دسمبر کی...  Business & Economics   \n",
       "2  اسلام باد بورڈ انویسٹمنٹ بی او ئی کے چیئرمین ع...  Business & Economics   \n",
       "3  اسلام اباد پاکستان میں ماہ نومبر میں مسلسل تیس...  Business & Economics   \n",
       "4  اسلام باد نیشنل ٹرانسمیشن اینڈ ڈسپیچ کمپنی این...  Business & Economics   \n",
       "\n",
       "         Date                                    URL     Source  News length  \n",
       "0  2020-12-06  https://www.dawnnews.tv/news/1148499/  Dawn News       1854.0  \n",
       "1  2020-12-06  https://www.dawnnews.tv/news/1148498/  Dawn News       2016.0  \n",
       "2  2020-12-05  https://www.dawnnews.tv/news/1148433/  Dawn News       2195.0  \n",
       "3  2020-12-05  https://www.dawnnews.tv/news/1148430/  Dawn News       2349.0  \n",
       "4  2020-12-05  https://www.dawnnews.tv/news/1148421/  Dawn News       2655.0  "
      ]
     },
     "execution_count": 6,
     "metadata": {},
     "output_type": "execute_result"
    }
   ],
   "source": [
    "df.head()"
   ]
  },
  {
   "cell_type": "code",
   "execution_count": 7,
   "id": "6c06009d",
   "metadata": {
    "execution": {
     "iopub.execute_input": "2023-12-10T21:02:39.332761Z",
     "iopub.status.busy": "2023-12-10T21:02:39.332467Z",
     "iopub.status.idle": "2023-12-10T21:02:39.345664Z",
     "shell.execute_reply": "2023-12-10T21:02:39.344859Z"
    },
    "papermill": {
     "duration": 0.031292,
     "end_time": "2023-12-10T21:02:39.347658",
     "exception": false,
     "start_time": "2023-12-10T21:02:39.316366",
     "status": "completed"
    },
    "tags": []
   },
   "outputs": [
    {
     "name": "stdout",
     "output_type": "stream",
     "text": [
      "['Business & Economics' 'Entertainment' 'Science & Technology' 'Sports'\n",
      " nan]\n",
      "5\n"
     ]
    }
   ],
   "source": [
    "unique_categories = df['Category'].unique()\n",
    "print(unique_categories)\n",
    "print(len(unique_categories))\n"
   ]
  },
  {
   "cell_type": "code",
   "execution_count": 8,
   "id": "b1dc8327",
   "metadata": {
    "execution": {
     "iopub.execute_input": "2023-12-10T21:02:39.378912Z",
     "iopub.status.busy": "2023-12-10T21:02:39.378603Z",
     "iopub.status.idle": "2023-12-10T21:02:39.395909Z",
     "shell.execute_reply": "2023-12-10T21:02:39.394607Z"
    },
    "papermill": {
     "duration": 0.035174,
     "end_time": "2023-12-10T21:02:39.397809",
     "exception": false,
     "start_time": "2023-12-10T21:02:39.362635",
     "status": "completed"
    },
    "tags": []
   },
   "outputs": [
    {
     "name": "stdout",
     "output_type": "stream",
     "text": [
      "                                            Headline  \\\n",
      "0  عالمی بینک عسکریت پسندی سے متاثرہ خاندانوں کی ...   \n",
      "1  مالی سال 2020 ریٹرن فائل کرنے والوں کی تعداد م...   \n",
      "2  جاپان کو سندھ کے خصوصی اقتصادی زون میں سرمایہ ...   \n",
      "3   برامدات 767 فیصد بڑھ کر ارب 16 کروڑ ڈالر سے زائد   \n",
      "4  کے الیکٹرک کو اضافی بجلی گیس کی فراہمی کے قانو...   \n",
      "\n",
      "                                           News Text              Category  \\\n",
      "0  اسلام باد عالمی بینک خیبرپختونخوا کے قبائلی اض...  Business & Economics   \n",
      "1  اسلام باد فیڈرل بورڈ ریونیو ایف بی نے دسمبر کی...  Business & Economics   \n",
      "2  اسلام باد بورڈ انویسٹمنٹ بی او ئی کے چیئرمین ع...  Business & Economics   \n",
      "3  اسلام اباد پاکستان میں ماہ نومبر میں مسلسل تیس...  Business & Economics   \n",
      "4  اسلام باد نیشنل ٹرانسمیشن اینڈ ڈسپیچ کمپنی این...  Business & Economics   \n",
      "\n",
      "   News length  \n",
      "0       1854.0  \n",
      "1       2016.0  \n",
      "2       2195.0  \n",
      "3       2349.0  \n",
      "4       2655.0  \n"
     ]
    }
   ],
   "source": [
    "\n",
    "df2 = df.iloc[:, [1, 2, 3, 7]]\n",
    "\n",
    "# Display the DataFrame with selected columns\n",
    "print(df2.head())\n"
   ]
  },
  {
   "cell_type": "code",
   "execution_count": 9,
   "id": "2ef87cce",
   "metadata": {
    "execution": {
     "iopub.execute_input": "2023-12-10T21:02:39.429619Z",
     "iopub.status.busy": "2023-12-10T21:02:39.428766Z",
     "iopub.status.idle": "2023-12-10T21:02:39.475311Z",
     "shell.execute_reply": "2023-12-10T21:02:39.474389Z"
    },
    "papermill": {
     "duration": 0.064362,
     "end_time": "2023-12-10T21:02:39.477253",
     "exception": false,
     "start_time": "2023-12-10T21:02:39.412891",
     "status": "completed"
    },
    "tags": []
   },
   "outputs": [
    {
     "name": "stdout",
     "output_type": "stream",
     "text": [
      "Empty DataFrame\n",
      "Columns: [Headline, News Text, Category, News length]\n",
      "Index: []\n",
      "Empty DataFrame\n",
      "Columns: [Headline, News Text, Category, News length]\n",
      "Index: []\n"
     ]
    }
   ],
   "source": [
    "print(df2[df2['Headline'] == ''])\n",
    "print(df2[df2['News Text'] == ''])\n",
    "\n"
   ]
  },
  {
   "cell_type": "code",
   "execution_count": 10,
   "id": "d469de67",
   "metadata": {
    "execution": {
     "iopub.execute_input": "2023-12-10T21:02:39.509410Z",
     "iopub.status.busy": "2023-12-10T21:02:39.509093Z",
     "iopub.status.idle": "2023-12-10T21:02:39.596110Z",
     "shell.execute_reply": "2023-12-10T21:02:39.595128Z"
    },
    "papermill": {
     "duration": 0.105883,
     "end_time": "2023-12-10T21:02:39.598561",
     "exception": false,
     "start_time": "2023-12-10T21:02:39.492678",
     "status": "completed"
    },
    "tags": []
   },
   "outputs": [
    {
     "name": "stdout",
     "output_type": "stream",
     "text": [
      "Headline       0\n",
      "News Text      0\n",
      "Category       1\n",
      "News length    1\n",
      "dtype: int64\n",
      "                                                 Headline  \\\n",
      "111860  پاکستان کو براستہ افغانستان ریلوے لائن کی ازبک...   \n",
      "\n",
      "                                               News Text Category  News length  \n",
      "111860  ازبک وزیرخارجہ کی شاہ محمودسے ملاقاتتعاون بڑھان�      NaN          NaN  \n"
     ]
    }
   ],
   "source": [
    "null_counts = df2.isnull().sum()\n",
    "\n",
    "print(null_counts)\n",
    "\n",
    "null_rows = df2[df2.isnull().any(axis=1)]\n",
    "\n",
    "# Display the rows with null values\n",
    "print(null_rows)"
   ]
  },
  {
   "cell_type": "code",
   "execution_count": 11,
   "id": "a12224b5",
   "metadata": {
    "execution": {
     "iopub.execute_input": "2023-12-10T21:02:39.671360Z",
     "iopub.status.busy": "2023-12-10T21:02:39.670524Z",
     "iopub.status.idle": "2023-12-10T21:02:39.761380Z",
     "shell.execute_reply": "2023-12-10T21:02:39.760320Z"
    },
    "papermill": {
     "duration": 0.109471,
     "end_time": "2023-12-10T21:02:39.763439",
     "exception": false,
     "start_time": "2023-12-10T21:02:39.653968",
     "status": "completed"
    },
    "tags": []
   },
   "outputs": [
    {
     "name": "stdout",
     "output_type": "stream",
     "text": [
      "Empty DataFrame\n",
      "Columns: [Headline, News Text, Category, News length]\n",
      "Index: []\n"
     ]
    }
   ],
   "source": [
    "df2 = df2.dropna()\n",
    "\n",
    "\n",
    "null_rows = df2[df2.isnull().any(axis=1)]\n",
    "\n",
    "print(null_rows)"
   ]
  },
  {
   "cell_type": "code",
   "execution_count": 12,
   "id": "f33b8a18",
   "metadata": {
    "execution": {
     "iopub.execute_input": "2023-12-10T21:02:39.797014Z",
     "iopub.status.busy": "2023-12-10T21:02:39.796428Z",
     "iopub.status.idle": "2023-12-10T21:02:40.254205Z",
     "shell.execute_reply": "2023-12-10T21:02:40.253295Z"
    },
    "papermill": {
     "duration": 0.476717,
     "end_time": "2023-12-10T21:02:40.256263",
     "exception": false,
     "start_time": "2023-12-10T21:02:39.779546",
     "status": "completed"
    },
    "tags": []
   },
   "outputs": [
    {
     "name": "stderr",
     "output_type": "stream",
     "text": [
      "/opt/conda/lib/python3.10/site-packages/seaborn/_oldcore.py:1498: FutureWarning: is_categorical_dtype is deprecated and will be removed in a future version. Use isinstance(dtype, CategoricalDtype) instead\n",
      "  if pd.api.types.is_categorical_dtype(vector):\n",
      "/opt/conda/lib/python3.10/site-packages/seaborn/_oldcore.py:1498: FutureWarning: is_categorical_dtype is deprecated and will be removed in a future version. Use isinstance(dtype, CategoricalDtype) instead\n",
      "  if pd.api.types.is_categorical_dtype(vector):\n",
      "/opt/conda/lib/python3.10/site-packages/seaborn/_oldcore.py:1498: FutureWarning: is_categorical_dtype is deprecated and will be removed in a future version. Use isinstance(dtype, CategoricalDtype) instead\n",
      "  if pd.api.types.is_categorical_dtype(vector):\n"
     ]
    },
    {
     "data": {
      "image/png": "[encoded data removed]",
      "text/plain": [
       "<Figure size 2500x1300 with 1 Axes>"
      ]
     },
     "metadata": {},
     "output_type": "display_data"
    }
   ],
   "source": [
    "plt.figure(figsize=(25,13))\n",
    "sns.barplot(y=df2['Category'].value_counts().index,x=df2['Category'].value_counts().values)\n",
    "plt.title(\"The distribution of categories\")\n",
    "plt.xlabel(\"Category\")\n",
    "plt.ylabel(\"The number of samples\")\n",
    "\n",
    "plt.yticks(rotation=0,fontsize = 16)\n",
    "plt.show()"
   ]
  },
  {
   "cell_type": "code",
   "execution_count": 13,
   "id": "9699718e",
   "metadata": {
    "execution": {
     "iopub.execute_input": "2023-12-10T21:02:40.290773Z",
     "iopub.status.busy": "2023-12-10T21:02:40.290428Z",
     "iopub.status.idle": "2023-12-10T21:02:40.733562Z",
     "shell.execute_reply": "2023-12-10T21:02:40.732646Z"
    },
    "papermill": {
     "duration": 0.463323,
     "end_time": "2023-12-10T21:02:40.736362",
     "exception": false,
     "start_time": "2023-12-10T21:02:40.273039",
     "status": "completed"
    },
    "tags": []
   },
   "outputs": [
    {
     "data": {
      "image/png": "[encoded data removed]",
      "text/plain": [
       "<Figure size 2200x2200 with 1 Axes>"
      ]
     },
     "metadata": {},
     "output_type": "display_data"
    }
   ],
   "source": [
    "plt.figure(figsize=(22,22))\n",
    "plt.pie(df2['Category'].value_counts().values, autopct=\"%1.1f%%\", labels=df2['Category'].value_counts().index)\n",
    "plt.show()"
   ]
  },
  {
   "cell_type": "code",
   "execution_count": 14,
   "id": "783e6828",
   "metadata": {
    "execution": {
     "iopub.execute_input": "2023-12-10T21:02:40.773373Z",
     "iopub.status.busy": "2023-12-10T21:02:40.773049Z",
     "iopub.status.idle": "2023-12-10T21:02:41.048257Z",
     "shell.execute_reply": "2023-12-10T21:02:41.047315Z"
    },
    "papermill": {
     "duration": 0.295676,
     "end_time": "2023-12-10T21:02:41.050470",
     "exception": false,
     "start_time": "2023-12-10T21:02:40.754794",
     "status": "completed"
    },
    "tags": []
   },
   "outputs": [
    {
     "data": {
      "text/html": [
       "<div>\n",
       "<style scoped>\n",
       "    .dataframe tbody tr th:only-of-type {\n",
       "        vertical-align: middle;\n",
       "    }\n",
       "\n",
       "    .dataframe tbody tr th {\n",
       "        vertical-align: top;\n",
       "    }\n",
       "\n",
       "    .dataframe thead th {\n",
       "        text-align: right;\n",
       "    }\n",
       "</style>\n",
       "<table border=\"1\" class=\"dataframe\">\n",
       "  <thead>\n",
       "    <tr style=\"text-align: right;\">\n",
       "      <th></th>\n",
       "      <th>Headline</th>\n",
       "      <th>News Text</th>\n",
       "      <th>Category</th>\n",
       "      <th>News length</th>\n",
       "      <th>Full Article</th>\n",
       "    </tr>\n",
       "  </thead>\n",
       "  <tbody>\n",
       "    <tr>\n",
       "      <th>0</th>\n",
       "      <td>عالمی بینک عسکریت پسندی سے متاثرہ خاندانوں کی ...</td>\n",
       "      <td>اسلام باد عالمی بینک خیبرپختونخوا کے قبائلی اض...</td>\n",
       "      <td>Business &amp; Economics</td>\n",
       "      <td>1854.0</td>\n",
       "      <td>عالمی بینک عسکریت پسندی سے متاثرہ خاندانوں کی ...</td>\n",
       "    </tr>\n",
       "    <tr>\n",
       "      <th>1</th>\n",
       "      <td>مالی سال 2020 ریٹرن فائل کرنے والوں کی تعداد م...</td>\n",
       "      <td>اسلام باد فیڈرل بورڈ ریونیو ایف بی نے دسمبر کی...</td>\n",
       "      <td>Business &amp; Economics</td>\n",
       "      <td>2016.0</td>\n",
       "      <td>مالی سال 2020 ریٹرن فائل کرنے والوں کی تعداد م...</td>\n",
       "    </tr>\n",
       "    <tr>\n",
       "      <th>2</th>\n",
       "      <td>جاپان کو سندھ کے خصوصی اقتصادی زون میں سرمایہ ...</td>\n",
       "      <td>اسلام باد بورڈ انویسٹمنٹ بی او ئی کے چیئرمین ع...</td>\n",
       "      <td>Business &amp; Economics</td>\n",
       "      <td>2195.0</td>\n",
       "      <td>جاپان کو سندھ کے خصوصی اقتصادی زون میں سرمایہ ...</td>\n",
       "    </tr>\n",
       "    <tr>\n",
       "      <th>3</th>\n",
       "      <td>برامدات 767 فیصد بڑھ کر ارب 16 کروڑ ڈالر سے زائد</td>\n",
       "      <td>اسلام اباد پاکستان میں ماہ نومبر میں مسلسل تیس...</td>\n",
       "      <td>Business &amp; Economics</td>\n",
       "      <td>2349.0</td>\n",
       "      <td>برامدات 767 فیصد بڑھ کر ارب 16 کروڑ ڈالر سے زا...</td>\n",
       "    </tr>\n",
       "    <tr>\n",
       "      <th>4</th>\n",
       "      <td>کے الیکٹرک کو اضافی بجلی گیس کی فراہمی کے قانو...</td>\n",
       "      <td>اسلام باد نیشنل ٹرانسمیشن اینڈ ڈسپیچ کمپنی این...</td>\n",
       "      <td>Business &amp; Economics</td>\n",
       "      <td>2655.0</td>\n",
       "      <td>کے الیکٹرک کو اضافی بجلی گیس کی فراہمی کے قانو...</td>\n",
       "    </tr>\n",
       "  </tbody>\n",
       "</table>\n",
       "</div>"
      ],
      "text/plain": [
       "                                            Headline  \\\n",
       "0  عالمی بینک عسکریت پسندی سے متاثرہ خاندانوں کی ...   \n",
       "1  مالی سال 2020 ریٹرن فائل کرنے والوں کی تعداد م...   \n",
       "2  جاپان کو سندھ کے خصوصی اقتصادی زون میں سرمایہ ...   \n",
       "3   برامدات 767 فیصد بڑھ کر ارب 16 کروڑ ڈالر سے زائد   \n",
       "4  کے الیکٹرک کو اضافی بجلی گیس کی فراہمی کے قانو...   \n",
       "\n",
       "                                           News Text              Category  \\\n",
       "0  اسلام باد عالمی بینک خیبرپختونخوا کے قبائلی اض...  Business & Economics   \n",
       "1  اسلام باد فیڈرل بورڈ ریونیو ایف بی نے دسمبر کی...  Business & Economics   \n",
       "2  اسلام باد بورڈ انویسٹمنٹ بی او ئی کے چیئرمین ع...  Business & Economics   \n",
       "3  اسلام اباد پاکستان میں ماہ نومبر میں مسلسل تیس...  Business & Economics   \n",
       "4  اسلام باد نیشنل ٹرانسمیشن اینڈ ڈسپیچ کمپنی این...  Business & Economics   \n",
       "\n",
       "   News length                                       Full Article  \n",
       "0       1854.0  عالمی بینک عسکریت پسندی سے متاثرہ خاندانوں کی ...  \n",
       "1       2016.0  مالی سال 2020 ریٹرن فائل کرنے والوں کی تعداد م...  \n",
       "2       2195.0  جاپان کو سندھ کے خصوصی اقتصادی زون میں سرمایہ ...  \n",
       "3       2349.0  برامدات 767 فیصد بڑھ کر ارب 16 کروڑ ڈالر سے زا...  \n",
       "4       2655.0  کے الیکٹرک کو اضافی بجلی گیس کی فراہمی کے قانو...  "
      ]
     },
     "execution_count": 14,
     "metadata": {},
     "output_type": "execute_result"
    }
   ],
   "source": [
    "df3=df2.copy()\n",
    "df3['Full Article'] = df3['Headline'] + \" \" + df3['News Text']\n",
    "df3.head()"
   ]
  },
  {
   "cell_type": "code",
   "execution_count": 15,
   "id": "521c476a",
   "metadata": {
    "execution": {
     "iopub.execute_input": "2023-12-10T21:02:41.087868Z",
     "iopub.status.busy": "2023-12-10T21:02:41.087539Z",
     "iopub.status.idle": "2023-12-10T21:02:41.099733Z",
     "shell.execute_reply": "2023-12-10T21:02:41.098904Z"
    },
    "papermill": {
     "duration": 0.032811,
     "end_time": "2023-12-10T21:02:41.101558",
     "exception": false,
     "start_time": "2023-12-10T21:02:41.068747",
     "status": "completed"
    },
    "tags": []
   },
   "outputs": [
    {
     "data": {
      "text/html": [
       "<div>\n",
       "<style scoped>\n",
       "    .dataframe tbody tr th:only-of-type {\n",
       "        vertical-align: middle;\n",
       "    }\n",
       "\n",
       "    .dataframe tbody tr th {\n",
       "        vertical-align: top;\n",
       "    }\n",
       "\n",
       "    .dataframe thead th {\n",
       "        text-align: right;\n",
       "    }\n",
       "</style>\n",
       "<table border=\"1\" class=\"dataframe\">\n",
       "  <thead>\n",
       "    <tr style=\"text-align: right;\">\n",
       "      <th></th>\n",
       "      <th>Category</th>\n",
       "      <th>News length</th>\n",
       "    </tr>\n",
       "  </thead>\n",
       "  <tbody>\n",
       "    <tr>\n",
       "      <th>0</th>\n",
       "      <td>Business &amp; Economics</td>\n",
       "      <td>1854.0</td>\n",
       "    </tr>\n",
       "    <tr>\n",
       "      <th>1</th>\n",
       "      <td>Business &amp; Economics</td>\n",
       "      <td>2016.0</td>\n",
       "    </tr>\n",
       "    <tr>\n",
       "      <th>2</th>\n",
       "      <td>Business &amp; Economics</td>\n",
       "      <td>2195.0</td>\n",
       "    </tr>\n",
       "    <tr>\n",
       "      <th>3</th>\n",
       "      <td>Business &amp; Economics</td>\n",
       "      <td>2349.0</td>\n",
       "    </tr>\n",
       "    <tr>\n",
       "      <th>4</th>\n",
       "      <td>Business &amp; Economics</td>\n",
       "      <td>2655.0</td>\n",
       "    </tr>\n",
       "  </tbody>\n",
       "</table>\n",
       "</div>"
      ],
      "text/plain": [
       "               Category  News length\n",
       "0  Business & Economics       1854.0\n",
       "1  Business & Economics       2016.0\n",
       "2  Business & Economics       2195.0\n",
       "3  Business & Economics       2349.0\n",
       "4  Business & Economics       2655.0"
      ]
     },
     "execution_count": 15,
     "metadata": {},
     "output_type": "execute_result"
    }
   ],
   "source": [
    "\n",
    "df4 = df3.iloc[:, [2, 3]]\n",
    "df4.head()"
   ]
  },
  {
   "cell_type": "code",
   "execution_count": 16,
   "id": "e164c901",
   "metadata": {
    "execution": {
     "iopub.execute_input": "2023-12-10T21:02:41.139301Z",
     "iopub.status.busy": "2023-12-10T21:02:41.138639Z",
     "iopub.status.idle": "2023-12-10T21:02:41.159250Z",
     "shell.execute_reply": "2023-12-10T21:02:41.158445Z"
    },
    "papermill": {
     "duration": 0.041761,
     "end_time": "2023-12-10T21:02:41.161225",
     "exception": false,
     "start_time": "2023-12-10T21:02:41.119464",
     "status": "completed"
    },
    "tags": []
   },
   "outputs": [
    {
     "data": {
      "text/plain": [
       "Category\n",
       "Sports                  44829\n",
       "Entertainment           34901\n",
       "Business & Economics    24131\n",
       "Science & Technology     7999\n",
       "Name: count, dtype: int64"
      ]
     },
     "execution_count": 16,
     "metadata": {},
     "output_type": "execute_result"
    }
   ],
   "source": [
    "df4['Category'].value_counts()"
   ]
  },
  {
   "cell_type": "code",
   "execution_count": null,
   "id": "6d877217",
   "metadata": {
    "papermill": {
     "duration": 0.018232,
     "end_time": "2023-12-10T21:02:41.197626",
     "exception": false,
     "start_time": "2023-12-10T21:02:41.179394",
     "status": "completed"
    },
    "tags": []
   },
   "outputs": [],
   "source": []
  },
  {
   "cell_type": "code",
   "execution_count": 17,
   "id": "0d28c3da",
   "metadata": {
    "execution": {
     "iopub.execute_input": "2023-12-10T21:02:41.237892Z",
     "iopub.status.busy": "2023-12-10T21:02:41.237611Z",
     "iopub.status.idle": "2023-12-10T21:06:09.984428Z",
     "shell.execute_reply": "2023-12-10T21:06:09.983420Z"
    },
    "papermill": {
     "duration": 208.789724,
     "end_time": "2023-12-10T21:06:10.006640",
     "exception": false,
     "start_time": "2023-12-10T21:02:41.216916",
     "status": "completed"
    },
    "tags": []
   },
   "outputs": [
    {
     "name": "stderr",
     "output_type": "stream",
     "text": [
      "/tmp/ipykernel_27/1625323039.py:1: SettingWithCopyWarning: \n",
      "A value is trying to be set on a copy of a slice from a DataFrame.\n",
      "Try using .loc[row_indexer,col_indexer] = value instead\n",
      "\n",
      "See the caveats in the documentation: https://pandas.pydata.org/pandas-docs/stable/user_guide/indexing.html#returning-a-view-versus-a-copy\n",
      "  df4['TokenizedUrduText'] = df3['Full Article'].apply(lambda x: word_tokenize(x))\n"
     ]
    }
   ],
   "source": [
    "df4['TokenizedUrduText'] = df3['Full Article'].apply(lambda x: word_tokenize(x))\n"
   ]
  },
  {
   "cell_type": "code",
   "execution_count": 18,
   "id": "79c2e6e4",
   "metadata": {
    "execution": {
     "iopub.execute_input": "2023-12-10T21:06:10.045157Z",
     "iopub.status.busy": "2023-12-10T21:06:10.044837Z",
     "iopub.status.idle": "2023-12-10T21:06:10.055571Z",
     "shell.execute_reply": "2023-12-10T21:06:10.054618Z"
    },
    "papermill": {
     "duration": 0.03284,
     "end_time": "2023-12-10T21:06:10.057897",
     "exception": false,
     "start_time": "2023-12-10T21:06:10.025057",
     "status": "completed"
    },
    "tags": []
   },
   "outputs": [
    {
     "name": "stdout",
     "output_type": "stream",
     "text": [
      "               Category  News length  \\\n",
      "0  Business & Economics       1854.0   \n",
      "1  Business & Economics       2016.0   \n",
      "2  Business & Economics       2195.0   \n",
      "3  Business & Economics       2349.0   \n",
      "4  Business & Economics       2655.0   \n",
      "\n",
      "                                   TokenizedUrduText  \n",
      "0  [عالمی, بینک, عسکریت, پسندی, سے, متاثرہ, خاندا...  \n",
      "1  [مالی, سال, 2020, ریٹرن, فائل, کرنے, والوں, کی...  \n",
      "2  [جاپان, کو, سندھ, کے, خصوصی, اقتصادی, زون, میں...  \n",
      "3  [برامدات, 767, فیصد, بڑھ, کر, ارب, 16, کروڑ, ڈ...  \n",
      "4  [کے, الیکٹرک, کو, اضافی, بجلی, گیس, کی, فراہمی...  \n"
     ]
    }
   ],
   "source": [
    "print(df4.head())"
   ]
  },
  {
   "cell_type": "code",
   "execution_count": 19,
   "id": "d6a73187",
   "metadata": {
    "execution": {
     "iopub.execute_input": "2023-12-10T21:06:10.096567Z",
     "iopub.status.busy": "2023-12-10T21:06:10.096305Z",
     "iopub.status.idle": "2023-12-10T21:06:10.112418Z",
     "shell.execute_reply": "2023-12-10T21:06:10.111705Z"
    },
    "papermill": {
     "duration": 0.036976,
     "end_time": "2023-12-10T21:06:10.114397",
     "exception": false,
     "start_time": "2023-12-10T21:06:10.077421",
     "status": "completed"
    },
    "tags": []
   },
   "outputs": [],
   "source": [
    "df5=df4.copy()"
   ]
  },
  {
   "cell_type": "code",
   "execution_count": null,
   "id": "c0c8617a",
   "metadata": {
    "papermill": {
     "duration": 0.018226,
     "end_time": "2023-12-10T21:06:10.151294",
     "exception": false,
     "start_time": "2023-12-10T21:06:10.133068",
     "status": "completed"
    },
    "tags": []
   },
   "outputs": [],
   "source": []
  },
  {
   "cell_type": "markdown",
   "id": "4da6683b",
   "metadata": {
    "papermill": {
     "duration": 0.019833,
     "end_time": "2023-12-10T21:06:10.190874",
     "exception": false,
     "start_time": "2023-12-10T21:06:10.171041",
     "status": "completed"
    },
    "tags": []
   },
   "source": []
  },
  {
   "cell_type": "code",
   "execution_count": 20,
   "id": "f9d65546",
   "metadata": {
    "execution": {
     "iopub.execute_input": "2023-12-10T21:06:10.231362Z",
     "iopub.status.busy": "2023-12-10T21:06:10.231009Z",
     "iopub.status.idle": "2023-12-10T21:06:20.489246Z",
     "shell.execute_reply": "2023-12-10T21:06:20.488344Z"
    },
    "papermill": {
     "duration": 10.280515,
     "end_time": "2023-12-10T21:06:20.491447",
     "exception": false,
     "start_time": "2023-12-10T21:06:10.210932",
     "status": "completed"
    },
    "tags": []
   },
   "outputs": [
    {
     "name": "stdout",
     "output_type": "stream",
     "text": [
      "['کے', 'میں', 'کی', 'سے', 'نے', 'کا', 'اور', 'کو', 'ہے', 'پر', 'کہ', 'بھی', 'اس', 'ہیں', 'ایک', 'کیا', 'کر', 'ان', 'لیے', 'یہ']\n"
     ]
    }
   ],
   "source": [
    "flattened_words = [word for sublist in df5['TokenizedUrduText'] for word in sublist]\n",
    "\n",
    "# Step 2: Count occurrences of each word\n",
    "word_counts = pd.Series(flattened_words).value_counts()\n",
    "\n",
    "# Step 3: Sort the counts in descending order\n",
    "sorted_word_counts = word_counts.sort_values(ascending=False)\n",
    "\n",
    "ranges_to_select = [(0, 16, 1), (17, 19, 1), (22, 24, 1)]\n",
    "\n",
    "# Use list comprehension to concatenate words from multiple ranges with different steps\n",
    "selected_words = [word for start, end, step in ranges_to_select for word in sorted_word_counts.index[start:end:step]]\n",
    "\n",
    "print(selected_words)"
   ]
  },
  {
   "cell_type": "code",
   "execution_count": 21,
   "id": "8d5a563f",
   "metadata": {
    "execution": {
     "iopub.execute_input": "2023-12-10T21:06:20.530646Z",
     "iopub.status.busy": "2023-12-10T21:06:20.529873Z",
     "iopub.status.idle": "2023-12-10T21:06:33.175722Z",
     "shell.execute_reply": "2023-12-10T21:06:33.174723Z"
    },
    "papermill": {
     "duration": 12.66795,
     "end_time": "2023-12-10T21:06:33.178063",
     "exception": false,
     "start_time": "2023-12-10T21:06:20.510113",
     "status": "completed"
    },
    "tags": []
   },
   "outputs": [],
   "source": [
    "\n",
    "# Function to remove selected words from a list\n",
    "def remove_selected_words(word_list):\n",
    "    return [word for word in word_list if word not in selected_words]\n",
    "\n",
    "# Apply the function to the 'WordsList' column\n",
    "df5['TokenizedUrduText'] = df5['TokenizedUrduText'].apply(remove_selected_words)\n",
    "\n",
    "\n"
   ]
  },
  {
   "cell_type": "code",
   "execution_count": null,
   "id": "38ded6fd",
   "metadata": {
    "papermill": {
     "duration": 0.018033,
     "end_time": "2023-12-10T21:06:33.214710",
     "exception": false,
     "start_time": "2023-12-10T21:06:33.196677",
     "status": "completed"
    },
    "tags": []
   },
   "outputs": [],
   "source": []
  },
  {
   "cell_type": "code",
   "execution_count": 22,
   "id": "61cdf462",
   "metadata": {
    "execution": {
     "iopub.execute_input": "2023-12-10T21:06:33.252213Z",
     "iopub.status.busy": "2023-12-10T21:06:33.251899Z",
     "iopub.status.idle": "2023-12-10T21:06:33.257698Z",
     "shell.execute_reply": "2023-12-10T21:06:33.256941Z"
    },
    "papermill": {
     "duration": 0.026942,
     "end_time": "2023-12-10T21:06:33.259607",
     "exception": false,
     "start_time": "2023-12-10T21:06:33.232665",
     "status": "completed"
    },
    "tags": []
   },
   "outputs": [],
   "source": [
    "X = df5['TokenizedUrduText'].tolist()\n",
    "y = df5['Category']\n"
   ]
  },
  {
   "cell_type": "code",
   "execution_count": null,
   "id": "2c20fb12",
   "metadata": {
    "papermill": {
     "duration": 0.017814,
     "end_time": "2023-12-10T21:06:33.295573",
     "exception": false,
     "start_time": "2023-12-10T21:06:33.277759",
     "status": "completed"
    },
    "tags": []
   },
   "outputs": [],
   "source": []
  },
  {
   "cell_type": "code",
   "execution_count": 23,
   "id": "801f0862",
   "metadata": {
    "execution": {
     "iopub.execute_input": "2023-12-10T21:06:33.333168Z",
     "iopub.status.busy": "2023-12-10T21:06:33.332894Z",
     "iopub.status.idle": "2023-12-10T21:06:33.369277Z",
     "shell.execute_reply": "2023-12-10T21:06:33.368461Z"
    },
    "papermill": {
     "duration": 0.05733,
     "end_time": "2023-12-10T21:06:33.371343",
     "exception": false,
     "start_time": "2023-12-10T21:06:33.314013",
     "status": "completed"
    },
    "tags": []
   },
   "outputs": [],
   "source": [
    "X_train, X_test, y_train, y_test = train_test_split(X, y, test_size=0.2, random_state=42)\n"
   ]
  },
  {
   "cell_type": "code",
   "execution_count": 24,
   "id": "60d4673d",
   "metadata": {
    "execution": {
     "iopub.execute_input": "2023-12-10T21:06:33.408437Z",
     "iopub.status.busy": "2023-12-10T21:06:33.408174Z",
     "iopub.status.idle": "2023-12-10T21:07:04.438472Z",
     "shell.execute_reply": "2023-12-10T21:07:04.437691Z"
    },
    "papermill": {
     "duration": 31.051441,
     "end_time": "2023-12-10T21:07:04.440829",
     "exception": false,
     "start_time": "2023-12-10T21:06:33.389388",
     "status": "completed"
    },
    "tags": []
   },
   "outputs": [],
   "source": [
    "# assigning unique numbers to each word\n",
    "tokenizer = Tokenizer()\n",
    "tokenizer.fit_on_texts(X)\n",
    "\n",
    "# Convert text data to sequences\n",
    "X_train_seq = tokenizer.texts_to_sequences(X_train)\n",
    "X_test_seq = tokenizer.texts_to_sequences(X_test)"
   ]
  },
  {
   "cell_type": "code",
   "execution_count": 25,
   "id": "e9263e0f",
   "metadata": {
    "execution": {
     "iopub.execute_input": "2023-12-10T21:07:04.480126Z",
     "iopub.status.busy": "2023-12-10T21:07:04.479448Z",
     "iopub.status.idle": "2023-12-10T21:07:04.484132Z",
     "shell.execute_reply": "2023-12-10T21:07:04.483301Z"
    },
    "papermill": {
     "duration": 0.02653,
     "end_time": "2023-12-10T21:07:04.486204",
     "exception": false,
     "start_time": "2023-12-10T21:07:04.459674",
     "status": "completed"
    },
    "tags": []
   },
   "outputs": [
    {
     "name": "stdout",
     "output_type": "stream",
     "text": [
      "[1086, 175, 2411, 4123, 338445, 1543, 10139, 2411, 4123, 2289, 3640, 395, 1492, 163, 475, 145791, 185, 408, 6761, 325, 85, 27, 11, 13, 1367, 1543, 10139, 137, 3640, 1562, 2440, 3329, 1492, 384, 52, 1225, 29, 474, 801, 4123, 1014, 2878, 13, 81063, 76, 214, 2411, 4123, 56, 3640, 565, 175, 12053, 30, 34306, 837, 1291, 3538, 3, 9692, 10146, 196, 145792, 1119, 37, 23, 1597, 96, 427, 3640, 28133, 175, 4123, 9065, 3, 1465, 865, 1071, 221, 2249, 40, 1460, 9141, 2851, 6468, 5518, 40, 28099, 2452, 308, 69, 12582, 2176, 9279, 4516, 1585, 774, 210, 6761, 3640, 1071, 124, 804, 1440, 129, 755, 4123, 298, 124, 132, 384, 160, 2411, 4123, 2289, 3640, 395, 1492, 163, 475, 145791, 185, 408, 6761, 325, 85, 27, 11, 13, 1367, 1543, 10139, 137, 3640, 1562, 2440, 3329, 1492, 384, 52, 1225, 29, 474, 801, 4123, 1014, 2878, 13, 81063, 76, 214, 2411, 4123, 56, 3640, 565, 175, 12053, 30, 34306, 837, 1291, 3538, 3, 9692, 10146, 196, 145792, 1119, 37, 23, 1597, 96, 427, 3640, 28133, 175, 4123, 9065, 3, 1465, 865, 1071, 221, 2249, 40, 1460, 9141, 2851, 6468, 5518, 40, 28099, 2452, 308, 69, 12582, 2176, 9279, 4516, 1585, 774, 210, 6761, 3640, 1071, 124, 804, 1440, 129, 755, 4123, 298, 124, 132, 384, 160]\n"
     ]
    }
   ],
   "source": [
    "print(X_train_seq[0])"
   ]
  },
  {
   "cell_type": "code",
   "execution_count": 26,
   "id": "a9d7aeea",
   "metadata": {
    "execution": {
     "iopub.execute_input": "2023-12-10T21:07:04.525157Z",
     "iopub.status.busy": "2023-12-10T21:07:04.524547Z",
     "iopub.status.idle": "2023-12-10T21:07:07.082009Z",
     "shell.execute_reply": "2023-12-10T21:07:07.081191Z"
    },
    "papermill": {
     "duration": 2.579343,
     "end_time": "2023-12-10T21:07:07.084392",
     "exception": false,
     "start_time": "2023-12-10T21:07:04.505049",
     "status": "completed"
    },
    "tags": []
   },
   "outputs": [],
   "source": [
    "\n",
    "\n",
    "\n",
    "# Pad sequences to a fixed length\n",
    "max_len = max(len(sequence) for sequence in X_train_seq)\n",
    "X_train_padded = pad_sequences(X_train_seq, maxlen=max_len, padding='post')\n",
    "X_test_padded = pad_sequences(X_test_seq, maxlen=max_len, padding='post')\n",
    "\n"
   ]
  },
  {
   "cell_type": "code",
   "execution_count": 27,
   "id": "6e439599",
   "metadata": {
    "execution": {
     "iopub.execute_input": "2023-12-10T21:07:07.122655Z",
     "iopub.status.busy": "2023-12-10T21:07:07.122336Z",
     "iopub.status.idle": "2023-12-10T21:07:07.126180Z",
     "shell.execute_reply": "2023-12-10T21:07:07.125358Z"
    },
    "papermill": {
     "duration": 0.025002,
     "end_time": "2023-12-10T21:07:07.128178",
     "exception": false,
     "start_time": "2023-12-10T21:07:07.103176",
     "status": "completed"
    },
    "tags": []
   },
   "outputs": [],
   "source": [
    "# print(X_train_padded[0])"
   ]
  },
  {
   "cell_type": "code",
   "execution_count": 28,
   "id": "529fe5c8",
   "metadata": {
    "execution": {
     "iopub.execute_input": "2023-12-10T21:07:07.165465Z",
     "iopub.status.busy": "2023-12-10T21:07:07.165218Z",
     "iopub.status.idle": "2023-12-10T21:07:07.170114Z",
     "shell.execute_reply": "2023-12-10T21:07:07.169153Z"
    },
    "papermill": {
     "duration": 0.025891,
     "end_time": "2023-12-10T21:07:07.172182",
     "exception": false,
     "start_time": "2023-12-10T21:07:07.146291",
     "status": "completed"
    },
    "tags": []
   },
   "outputs": [
    {
     "name": "stdout",
     "output_type": "stream",
     "text": [
      "[1086  175 2411 ...    0    0    0]\n"
     ]
    }
   ],
   "source": [
    "print(X_train_padded[0])"
   ]
  },
  {
   "cell_type": "code",
   "execution_count": 29,
   "id": "cd8f29c1",
   "metadata": {
    "execution": {
     "iopub.execute_input": "2023-12-10T21:07:07.211554Z",
     "iopub.status.busy": "2023-12-10T21:07:07.211267Z",
     "iopub.status.idle": "2023-12-10T21:07:07.215750Z",
     "shell.execute_reply": "2023-12-10T21:07:07.214937Z"
    },
    "papermill": {
     "duration": 0.026728,
     "end_time": "2023-12-10T21:07:07.217695",
     "exception": false,
     "start_time": "2023-12-10T21:07:07.190967",
     "status": "completed"
    },
    "tags": []
   },
   "outputs": [
    {
     "name": "stdout",
     "output_type": "stream",
     "text": [
      "5378\n"
     ]
    }
   ],
   "source": [
    "print(X_train_padded.shape[1])"
   ]
  },
  {
   "cell_type": "code",
   "execution_count": 30,
   "id": "b965601e",
   "metadata": {
    "execution": {
     "iopub.execute_input": "2023-12-10T21:07:07.255516Z",
     "iopub.status.busy": "2023-12-10T21:07:07.255222Z",
     "iopub.status.idle": "2023-12-10T21:07:07.259761Z",
     "shell.execute_reply": "2023-12-10T21:07:07.258848Z"
    },
    "papermill": {
     "duration": 0.025515,
     "end_time": "2023-12-10T21:07:07.261658",
     "exception": false,
     "start_time": "2023-12-10T21:07:07.236143",
     "status": "completed"
    },
    "tags": []
   },
   "outputs": [
    {
     "name": "stdout",
     "output_type": "stream",
     "text": [
      "5378\n"
     ]
    }
   ],
   "source": [
    "print(max_len)"
   ]
  },
  {
   "cell_type": "code",
   "execution_count": 31,
   "id": "532674be",
   "metadata": {
    "execution": {
     "iopub.execute_input": "2023-12-10T21:07:07.300235Z",
     "iopub.status.busy": "2023-12-10T21:07:07.299566Z",
     "iopub.status.idle": "2023-12-10T21:07:07.358200Z",
     "shell.execute_reply": "2023-12-10T21:07:07.357243Z"
    },
    "papermill": {
     "duration": 0.079813,
     "end_time": "2023-12-10T21:07:07.360238",
     "exception": false,
     "start_time": "2023-12-10T21:07:07.280425",
     "status": "completed"
    },
    "tags": []
   },
   "outputs": [
    {
     "name": "stderr",
     "output_type": "stream",
     "text": [
      "/opt/conda/lib/python3.10/site-packages/sklearn/utils/validation.py:605: FutureWarning: is_sparse is deprecated and will be removed in a future version. Check `isinstance(dtype, pd.SparseDtype)` instead.\n",
      "  if is_sparse(pd_dtype):\n",
      "/opt/conda/lib/python3.10/site-packages/sklearn/utils/validation.py:614: FutureWarning: is_sparse is deprecated and will be removed in a future version. Check `isinstance(dtype, pd.SparseDtype)` instead.\n",
      "  if is_sparse(pd_dtype) or not is_extension_array_dtype(pd_dtype):\n",
      "/opt/conda/lib/python3.10/site-packages/sklearn/utils/validation.py:605: FutureWarning: is_sparse is deprecated and will be removed in a future version. Check `isinstance(dtype, pd.SparseDtype)` instead.\n",
      "  if is_sparse(pd_dtype):\n",
      "/opt/conda/lib/python3.10/site-packages/sklearn/utils/validation.py:614: FutureWarning: is_sparse is deprecated and will be removed in a future version. Check `isinstance(dtype, pd.SparseDtype)` instead.\n",
      "  if is_sparse(pd_dtype) or not is_extension_array_dtype(pd_dtype):\n"
     ]
    }
   ],
   "source": [
    "\n",
    "# Assuming y_train and y_test are lists of string class labels\n",
    "label_encoder = LabelEncoder()\n",
    "\n",
    "# Fit and transform labels to numerical values\n",
    "y_train_numeric = label_encoder.fit_transform(y_train)\n",
    "y_test_numeric = label_encoder.transform(y_test)\n",
    "# Convert labels to one-hot encoding\n",
    "num_classes = len(set(y_train_numeric))  # assuming y_train_numeric contains class labels\n",
    "y_train_onehot = to_categorical(y_train_numeric, num_classes=num_classes)\n",
    "\n",
    "num_classes = len(set(y_test_numeric))  # assuming y_test_numeric contains class labels\n",
    "y_test_onehot = to_categorical(y_test_numeric, num_classes=num_classes)"
   ]
  },
  {
   "cell_type": "code",
   "execution_count": null,
   "id": "284456f2",
   "metadata": {
    "papermill": {
     "duration": 0.018294,
     "end_time": "2023-12-10T21:07:07.397175",
     "exception": false,
     "start_time": "2023-12-10T21:07:07.378881",
     "status": "completed"
    },
    "tags": []
   },
   "outputs": [],
   "source": []
  },
  {
   "cell_type": "code",
   "execution_count": null,
   "id": "1fa0d26f",
   "metadata": {
    "papermill": {
     "duration": 0.018481,
     "end_time": "2023-12-10T21:07:07.434171",
     "exception": false,
     "start_time": "2023-12-10T21:07:07.415690",
     "status": "completed"
    },
    "tags": []
   },
   "outputs": [],
   "source": []
  },
  {
   "cell_type": "code",
   "execution_count": 32,
   "id": "8d9d83b4",
   "metadata": {
    "execution": {
     "iopub.execute_input": "2023-12-10T21:07:07.478293Z",
     "iopub.status.busy": "2023-12-10T21:07:07.477316Z",
     "iopub.status.idle": "2023-12-10T21:07:14.972888Z",
     "shell.execute_reply": "2023-12-10T21:07:14.971876Z"
    },
    "papermill": {
     "duration": 7.52122,
     "end_time": "2023-12-10T21:07:14.975344",
     "exception": false,
     "start_time": "2023-12-10T21:07:07.454124",
     "status": "completed"
    },
    "tags": []
   },
   "outputs": [],
   "source": [
    "\n",
    "model = Sequential()\n",
    "model.add(Embedding(input_dim=len(tokenizer.word_index) + 1, output_dim=50, input_length=X_train_padded.shape[1]))\n",
    "model.add(Bidirectional(LSTM(units=64, return_sequences=True)))\n",
    "model.add(Dropout(0.5))  # Add dropout to reduce overfitting\n",
    "model.add(Bidirectional(LSTM(units=64, return_sequences=True)))\n",
    "model.add(Dropout(0.5))\n",
    "model.add(Bidirectional(LSTM(units=64, return_sequences=False)))\n",
    "model.add(Dropout(0.5))\n",
    "model.add(Dense(units=512, activation=\"relu\"))\n",
    "model.add(Dropout(0.5))\n",
    "model.add(Dense(units=256, activation=\"relu\"))\n",
    "model.add(Dense(units=num_classes, activation='softmax'))\n",
    "\n"
   ]
  },
  {
   "cell_type": "code",
   "execution_count": 33,
   "id": "20b09413",
   "metadata": {
    "execution": {
     "iopub.execute_input": "2023-12-10T21:07:15.015518Z",
     "iopub.status.busy": "2023-12-10T21:07:15.015170Z",
     "iopub.status.idle": "2023-12-10T21:07:15.031636Z",
     "shell.execute_reply": "2023-12-10T21:07:15.030731Z"
    },
    "papermill": {
     "duration": 0.038319,
     "end_time": "2023-12-10T21:07:15.033661",
     "exception": false,
     "start_time": "2023-12-10T21:07:14.995342",
     "status": "completed"
    },
    "tags": []
   },
   "outputs": [],
   "source": [
    "\n",
    "# Compile the model\n",
    "model.compile(optimizer='adam', loss='categorical_crossentropy', metrics=['accuracy'])\n"
   ]
  },
  {
   "cell_type": "code",
   "execution_count": 34,
   "id": "37b8207b",
   "metadata": {
    "execution": {
     "iopub.execute_input": "2023-12-10T21:07:15.072714Z",
     "iopub.status.busy": "2023-12-10T21:07:15.072414Z",
     "iopub.status.idle": "2023-12-10T21:07:15.107966Z",
     "shell.execute_reply": "2023-12-10T21:07:15.107068Z"
    },
    "papermill": {
     "duration": 0.064484,
     "end_time": "2023-12-10T21:07:15.116958",
     "exception": false,
     "start_time": "2023-12-10T21:07:15.052474",
     "status": "completed"
    },
    "tags": []
   },
   "outputs": [
    {
     "name": "stdout",
     "output_type": "stream",
     "text": [
      "Model: \"sequential\"\n",
      "_________________________________________________________________\n",
      " Layer (type)                Output Shape              Param #   \n",
      "=================================================================\n",
      " embedding (Embedding)       (None, 5378, 50)          20798350  \n",
      "                                                                 \n",
      " bidirectional (Bidirection  (None, 5378, 128)         58880     \n",
      " al)                                                             \n",
      "                                                                 \n",
      " dropout (Dropout)           (None, 5378, 128)         0         \n",
      "                                                                 \n",
      " bidirectional_1 (Bidirecti  (None, 5378, 128)         98816     \n",
      " onal)                                                           \n",
      "                                                                 \n",
      " dropout_1 (Dropout)         (None, 5378, 128)         0         \n",
      "                                                                 \n",
      " bidirectional_2 (Bidirecti  (None, 128)               98816     \n",
      " onal)                                                           \n",
      "                                                                 \n",
      " dropout_2 (Dropout)         (None, 128)               0         \n",
      "                                                                 \n",
      " dense (Dense)               (None, 512)               66048     \n",
      "                                                                 \n",
      " dropout_3 (Dropout)         (None, 512)               0         \n",
      "                                                                 \n",
      " dense_1 (Dense)             (None, 256)               131328    \n",
      "                                                                 \n",
      " dense_2 (Dense)             (None, 4)                 1028      \n",
      "                                                                 \n",
      "=================================================================\n",
      "Total params: 21253266 (81.07 MB)\n",
      "Trainable params: 21253266 (81.07 MB)\n",
      "Non-trainable params: 0 (0.00 Byte)\n",
      "_________________________________________________________________\n"
     ]
    }
   ],
   "source": [
    "model.summary()"
   ]
  },
  {
   "cell_type": "code",
   "execution_count": 35,
   "id": "d9bff218",
   "metadata": {
    "execution": {
     "iopub.execute_input": "2023-12-10T21:07:15.160506Z",
     "iopub.status.busy": "2023-12-10T21:07:15.159960Z",
     "iopub.status.idle": "2023-12-10T23:10:02.328108Z",
     "shell.execute_reply": "2023-12-10T23:10:02.327149Z"
    },
    "papermill": {
     "duration": 7367.777903,
     "end_time": "2023-12-10T23:10:02.915970",
     "exception": false,
     "start_time": "2023-12-10T21:07:15.138067",
     "status": "completed"
    },
    "tags": []
   },
   "outputs": [
    {
     "name": "stdout",
     "output_type": "stream",
     "text": [
      "Epoch 1/5\n",
      "1399/1399 [==============================] - 1573s 1s/step - loss: 0.1963 - accuracy: 0.9373 - val_loss: 0.1110 - val_accuracy: 0.9673\n",
      "Epoch 2/5\n",
      "1399/1399 [==============================] - 1468s 1s/step - loss: 0.0827 - accuracy: 0.9782 - val_loss: 0.1151 - val_accuracy: 0.9671\n",
      "Epoch 3/5\n",
      "1399/1399 [==============================] - 1444s 1s/step - loss: 0.0536 - accuracy: 0.9864 - val_loss: 0.1333 - val_accuracy: 0.9650\n",
      "Epoch 4/5\n",
      "1399/1399 [==============================] - 1440s 1s/step - loss: 0.0401 - accuracy: 0.9904 - val_loss: 0.1373 - val_accuracy: 0.9618\n",
      "Epoch 5/5\n",
      "1399/1399 [==============================] - 1439s 1s/step - loss: 0.0329 - accuracy: 0.9916 - val_loss: 0.1570 - val_accuracy: 0.9658\n"
     ]
    },
    {
     "data": {
      "text/plain": [
       "<keras.src.callbacks.History at 0x7ba63e6c3520>"
      ]
     },
     "execution_count": 35,
     "metadata": {},
     "output_type": "execute_result"
    }
   ],
   "source": [
    "\n",
    "# Train the model\n",
    "model.fit(X_train_padded, y_train_onehot, epochs=5, batch_size=64, validation_data=(X_test_padded, y_test_onehot))"
   ]
  },
  {
   "cell_type": "code",
   "execution_count": 36,
   "id": "bd3e36d8",
   "metadata": {
    "execution": {
     "iopub.execute_input": "2023-12-10T23:10:04.147298Z",
     "iopub.status.busy": "2023-12-10T23:10:04.146892Z",
     "iopub.status.idle": "2023-12-10T23:10:05.137471Z",
     "shell.execute_reply": "2023-12-10T23:10:05.136412Z"
    },
    "papermill": {
     "duration": 1.648103,
     "end_time": "2023-12-10T23:10:05.139809",
     "exception": false,
     "start_time": "2023-12-10T23:10:03.491706",
     "status": "completed"
    },
    "tags": []
   },
   "outputs": [],
   "source": [
    "\n",
    "model.save('NLP_URDU_NEWS_CLASSIFIER_MODEL.keras')\n"
   ]
  },
  {
   "cell_type": "code",
   "execution_count": 37,
   "id": "04da70be",
   "metadata": {
    "execution": {
     "iopub.execute_input": "2023-12-10T23:10:06.302533Z",
     "iopub.status.busy": "2023-12-10T23:10:06.301203Z",
     "iopub.status.idle": "2023-12-10T23:10:17.231282Z",
     "shell.execute_reply": "2023-12-10T23:10:17.230249Z"
    },
    "papermill": {
     "duration": 11.519026,
     "end_time": "2023-12-10T23:10:17.233667",
     "exception": false,
     "start_time": "2023-12-10T23:10:05.714641",
     "status": "completed"
    },
    "tags": []
   },
   "outputs": [],
   "source": [
    "model = load_model('/kaggle/input/nlp-urdu-news-classifier-model/NLP_URDU_NEWS_CLASSIFIER_MODEL.keras')\n",
    "\n"
   ]
  },
  {
   "cell_type": "code",
   "execution_count": 38,
   "id": "a434c0a9",
   "metadata": {
    "execution": {
     "iopub.execute_input": "2023-12-10T23:10:18.388516Z",
     "iopub.status.busy": "2023-12-10T23:10:18.388127Z",
     "iopub.status.idle": "2023-12-10T23:14:25.681554Z",
     "shell.execute_reply": "2023-12-10T23:14:25.680504Z"
    },
    "papermill": {
     "duration": 247.875117,
     "end_time": "2023-12-10T23:14:25.684000",
     "exception": false,
     "start_time": "2023-12-10T23:10:17.808883",
     "status": "completed"
    },
    "tags": []
   },
   "outputs": [
    {
     "name": "stdout",
     "output_type": "stream",
     "text": [
      "700/700 [==============================] - 246s 346ms/step\n"
     ]
    }
   ],
   "source": [
    "\n",
    "y_pred_onehot = model.predict(X_test_padded)"
   ]
  },
  {
   "cell_type": "code",
   "execution_count": null,
   "id": "8ccd5dbf",
   "metadata": {
    "execution": {
     "iopub.execute_input": "2023-12-10T20:57:50.216603Z",
     "iopub.status.busy": "2023-12-10T20:57:50.215870Z",
     "iopub.status.idle": "2023-12-10T20:57:50.222303Z",
     "shell.execute_reply": "2023-12-10T20:57:50.221266Z",
     "shell.execute_reply.started": "2023-12-10T20:57:50.216566Z"
    },
    "papermill": {
     "duration": 0.695944,
     "end_time": "2023-12-10T23:14:27.012168",
     "exception": false,
     "start_time": "2023-12-10T23:14:26.316224",
     "status": "completed"
    },
    "tags": []
   },
   "outputs": [],
   "source": []
  },
  {
   "cell_type": "code",
   "execution_count": 39,
   "id": "bffa84af",
   "metadata": {
    "execution": {
     "iopub.execute_input": "2023-12-10T23:14:28.278761Z",
     "iopub.status.busy": "2023-12-10T23:14:28.278349Z",
     "iopub.status.idle": "2023-12-10T23:14:28.285546Z",
     "shell.execute_reply": "2023-12-10T23:14:28.284821Z"
    },
    "papermill": {
     "duration": 0.64346,
     "end_time": "2023-12-10T23:14:28.287654",
     "exception": false,
     "start_time": "2023-12-10T23:14:27.644194",
     "status": "completed"
    },
    "tags": []
   },
   "outputs": [],
   "source": [
    "# from exponential form to one-hot encoding\n",
    "\n",
    "y_pred_numeric = np.argmax(y_pred_onehot, axis=1, keepdims=True)\n",
    "\n",
    "# Find the indices of the maximum values along the second axis (axis=1)\n",
    "max_indices = np.argmax(y_pred_onehot, axis=1)\n",
    "\n",
    "# Create a new matrix with 1 at the positions of the maximum values, and 0 elsewhere\n",
    "result_matrix = np.zeros_like(y_pred_onehot)\n",
    "rows = np.arange(y_pred_onehot.shape[0])\n",
    "result_matrix[rows, max_indices] = 1\n"
   ]
  },
  {
   "cell_type": "code",
   "execution_count": null,
   "id": "1e82e247",
   "metadata": {
    "papermill": {
     "duration": 0.697936,
     "end_time": "2023-12-10T23:14:29.619738",
     "exception": false,
     "start_time": "2023-12-10T23:14:28.921802",
     "status": "completed"
    },
    "tags": []
   },
   "outputs": [],
   "source": []
  },
  {
   "cell_type": "code",
   "execution_count": 40,
   "id": "48e3b907",
   "metadata": {
    "execution": {
     "iopub.execute_input": "2023-12-10T23:14:30.882320Z",
     "iopub.status.busy": "2023-12-10T23:14:30.881522Z",
     "iopub.status.idle": "2023-12-10T23:14:30.906379Z",
     "shell.execute_reply": "2023-12-10T23:14:30.905388Z"
    },
    "papermill": {
     "duration": 0.663088,
     "end_time": "2023-12-10T23:14:30.908509",
     "exception": false,
     "start_time": "2023-12-10T23:14:30.245421",
     "status": "completed"
    },
    "tags": []
   },
   "outputs": [
    {
     "name": "stdout",
     "output_type": "stream",
     "text": [
      "Accuracy: 96.23%\n"
     ]
    }
   ],
   "source": [
    "\n",
    "accuracy = accuracy_score(y_test_onehot, result_matrix)\n",
    "\n",
    "print(f\"Accuracy: {accuracy * 100:.2f}%\")\n",
    "\n",
    "\n"
   ]
  },
  {
   "cell_type": "code",
   "execution_count": 41,
   "id": "56ac18d9",
   "metadata": {
    "execution": {
     "iopub.execute_input": "2023-12-10T23:14:32.249666Z",
     "iopub.status.busy": "2023-12-10T23:14:32.248979Z",
     "iopub.status.idle": "2023-12-10T23:14:32.478802Z",
     "shell.execute_reply": "2023-12-10T23:14:32.478031Z"
    },
    "papermill": {
     "duration": 0.945421,
     "end_time": "2023-12-10T23:14:32.480900",
     "exception": false,
     "start_time": "2023-12-10T23:14:31.535479",
     "status": "completed"
    },
    "tags": []
   },
   "outputs": [],
   "source": [
    "\n",
    "X_joined = [' '.join(tokens) for tokens in X_test]\n"
   ]
  },
  {
   "cell_type": "code",
   "execution_count": 42,
   "id": "b3401a32",
   "metadata": {
    "execution": {
     "iopub.execute_input": "2023-12-10T23:14:33.739190Z",
     "iopub.status.busy": "2023-12-10T23:14:33.738338Z",
     "iopub.status.idle": "2023-12-10T23:14:33.749053Z",
     "shell.execute_reply": "2023-12-10T23:14:33.748154Z"
    },
    "papermill": {
     "duration": 0.641625,
     "end_time": "2023-12-10T23:14:33.751500",
     "exception": false,
     "start_time": "2023-12-10T23:14:33.109875",
     "status": "completed"
    },
    "tags": []
   },
   "outputs": [
    {
     "name": "stdout",
     "output_type": "stream",
     "text": [
      "Sample 1:\n",
      "Actual Label: Sports\n",
      "Predicted Label: Sports\n",
      "News Text: پاک بھارت ٹاکرا کمزور دل افراد اخری اوور نہ دیکھیں طبی ماہرین کراچیکرکٹ عالمی میلے پاک بھارت ٹاکرا کل ہوگا ڈاکٹرز کہتے دلوں گرمانے والے مقابلے کمزور دل افراد ذرا دل تھام کردیکھیں چھکوں شور ہویا پھر وکٹ گرنے سکوتپاک بھارت کرکٹ میچ دل مریضوں جان لیوا ثابت ہوسکتا جی ہاں پاک بھارت ٹاکرا اتنا ہی حساس ہوتا ہےاب ذرا سن لیجیے دل امراض مبتلا افراد بار اپنے شوق سنیں گے یا پھر ڈاکٹر کیکرکٹ فین مریضوں فیصلہ تو اپ سن لیا لیکن ڈاکٹر حضرات بات نظر انداز کرنا اتنا اسان نہیں ماہر امراض قلب ڈاکٹر انعام دانش کہتے مرض مبتلا افراد اخری اوورز دوران ٹی وی اگے ہرگز نہ بیٹھیں پانی قریب رکھیںپاک بھارت ٹاکرا دلوں گرمانے بے تاب لیکن چاہے جیت جشن ہو یا ہار غم دونوں زیادتی دل خطرناک\n",
      "\n",
      "\n",
      "Sample 2:\n",
      "Actual Label: Business & Economics\n",
      "Predicted Label: Business & Economics\n",
      "News Text: پرویز مشرف تفصیلی فیصلہ اسٹاک غیر یقینی انڈیکس 900 پوائنٹس کمی سابق صدر جنرل ریٹائرڈ پرویز مشرف خلاف سنگین غداری کیس تفصیلی فیصلہ بعد پاکستان اسٹاک ایکسچینج شدید مندی دیکھی گئیفیصلے بعد غیر یقینی صورتحال پیدا ہونے بینچ مارک ایس ای ہنڈریڈ انڈیکس 948 پوائنٹس کمی بعد 40 ہزار 655 سطح بند ہواہنڈریڈ انڈیکس کاروبار غاز ہی اتار چڑھا دیکھا گیا فیصلہ جاری ہونے بعد موقع انڈیکس ہزار 100 پوائنٹس زائد کمی ہوئیمارکیٹ کاروبار غاز مثبت رجحان ساتھ ہوا موقع انڈیکس 41 ہزار 796 پوائنٹس سطح پہنچامارکیٹ مندی رجحان خصوصی عدالت جانب پرویز مشرف خلاف کیس تفصیلی فیصلہ جاری ہونے بعد سامنے یا جبکہ پاکستان بھارت درمیان ممکنہ طور کشیدگی اضافے خبروں سرمایہ کاروں پیچھے ہٹنے مجبور کیامزید پڑھیں مشرف فیصلے پیراگراف 66 قانون دانوں بحثتجزیہ کار سلمان نقوی ڈان نیوز بات کرتے ہوئے کہا اسٹاک مارکیٹ پرویز مشرف خلاف فیصلے انتہائی منفی اثر یا خوف جنم لیا معاملے وجہ ملک عدم استحکام مزید بڑھے گاانہوں کہا حکومت عدلیہ درمیان بظاہر بڑھتے ہوئے تنا باعث سرمایہ کار حصص فروخت ترجیح دے رہے ہیںتاہم سلمان نقوی والے دنوں مارکیٹ ریکوری امید ظاہر کہا انڈیکس رواں سال اختتام تک 42 ہزار پوائنٹس نفسیاتی حد عبور سکتا\n",
      "\n",
      "\n",
      "Sample 3:\n",
      "Actual Label: Entertainment\n",
      "Predicted Label: Entertainment\n",
      "News Text: سوات معذورفنکار رباب بجاکر اپنا پیٹ پالنے لگا سوات92نیوزہمت سمان چھوئے تو جسمانی معذوری انسان کچھ نہیں بگاڑسکتی سوات نوجوان سعودی عرب مزدوری دوران سڑک حادثے معذور ہوا تو رباب اٹھا لیا نہ صرف اپنی زندگی خوش وخرم بنایا بلکہ اپنے دوستوں محظوظ کرتا ہےتفصیلات کےمطابق سوات ابراہیم خان معلوم نہ تھا وہ گھر والوں پیٹ پالنے کےلئے پردیس تو جارہا مگر وہاں وہ اپنے ارمانوں تابوت لیکر واپس لوٹے گا سڑک حادثے چلنے پھرنے معذور ہونے والے باہمت نوجوان ہمت نہیں ہاری رباب بجانا شروع کردیاابراہیم خان مطابق وہ رباب اپنے شوق کےلئے بجاتا گھر بھائی دوست مالی مدد کرلیتے لیکن رباب کمائی ذریعہ نہیں بنایاابراہیم خان جیسے نوجوان ہوتے جو زندگی ہر امتحان کامیاب ٹھہرتے چہرے مسکراہٹ سجائے ابراہیم خان نہ صرف اپنے جیسے خصوصی افراد بلکہ معاشرے ہر فرد زندگی مصائب نہ گھبرانے سبق دیا\n",
      "\n",
      "\n",
      "Sample 4:\n",
      "Actual Label: Entertainment\n",
      "Predicted Label: Entertainment\n",
      "News Text: جیکی چین عامر خان ساتھ جیکی چین اپنی والی مووی کنگ فو یوگا مسٹر پرفیکشنسٹ عامر خان ساتھ بڑے پردے جلوہ گر ہوں گے جیکی چین مووی دشموں دانٹ کھٹے کرتے ہوئے نظر ئیں گے جیکی چین جو پی ہیرو عامر خان بڑے مداح خواہش تھی وہ عامر خان ساتھ بڑے پردے کام کریں مووی خواہش پوری ہونے جارہی میڈیا رپورٹ مطابق فلم کنگ فو یوگا کنگ فو ماسٹر جیکی چین ساتھ عامر خان نظر ئیں گے فلم کہانی مارشل رٹ بھارتی ثقافت گرد گھومے گی جس عکس بندی اسی برس شروع ہونے امکان\n",
      "\n",
      "\n",
      "Sample 5:\n",
      "Actual Label: Entertainment\n",
      "Predicted Label: Entertainment\n",
      "News Text: پریانکا زنجیر ریمیک عکسبندی ستمبرسے شروع کروائیں گی ممبئیاین جی ٹی صف اول اداکارہ سابق مس ورلڈ پریانکا چوپڑا بالی ووڈفلم زنجیر ریمیک عکس بندیستمبرسے شروع کروائیں گی1973 بننے والی ماضی میا ترین فلم زنجیر ریمیک فلم ہیروئین جیا بچن کردارپریانکا چوپڑا نبھا رہی ہیںذرائع مطابق پریانکاچوپڑا مصروفیت وجہ ڈائیریکٹرامیت مہرا عکس بندی لئیتاریخیں نہیں دے پا رہی تھی تاہم اب وہ ستمبر فلم عکس بندی شروع کروائیں گی ہدایتکار امیت مہراکے مطابق فلم شوٹنگ نومبرتک مکمل لی جائے گی جسے اگلے سال2013میں سنیما گھروں نمائش کیلئے پیش دیا جائے گا\n",
      "\n",
      "\n",
      "Sample 6:\n",
      "Actual Label: Science & Technology\n",
      "Predicted Label: Science & Technology\n",
      "News Text: یوٹیوب اردو ورژن پاکستانی رسائی محروم اسلام باد ویڈیو شیئرنگ ویب سائٹ یوٹیوب اردو ورژن غاز باوجود پاکستان انٹرنیٹ صارفین اب یوٹیوب ڈاٹ پی تک رسائی حاصل نہیں ہوسکی جبکہ ڈومین صرف پاکستان مخصوص ہےخیال رہے رواں ہفتے غاز گوگل اعلان تھا یوٹیوب اب اردو دستیاب ہےپاکستان ٹیلی کمیونیکیشن اتھارٹی پی ٹی اے عہدیدار نام ظاہر نہ کرنے شرط ڈان بتایا یوٹیوب بحالی حوالے صرف سپریم کورٹ ہی فیصلہ کرسکتی ہےان کہنا تھا عدالت تمام فریقین 15 روز جواب طلب ہےانھوں مزید بتایا جب تک مذکورہ معاملہ عدالت زیرسماعت ریگولیٹر طور پی ٹی اے معاملے سرکاری سطح بیان دینے اجازت نہیں ہےپی ٹی اے ڈائریکٹر جنرل نثار احمد عدالت بتایا تھا ویڈیو شیئرنگ سائٹ قابل اعتراض مواد تک رسائی روکنا اب ممکن جو اب تک سائٹ بحالی سب بڑی رکاوٹ تھا لیکن حوالے عدالتی حکم عدم موجودگی وجہ یوٹیوب ڈاٹ کام ڈاٹ پی تک رسائی ممکن نہیںمزید پڑھیں یوٹیوب اب اردو زبان دستیابادھر گوگل ترجمان جانب جاری ہونے والے بیان کہا گیا تھا یوٹیوب ہوم پیج وزٹ کرنے والے پاکستانی صارفین اب یوٹیوب سائٹ اردو دیکھ سکیں گے پلے لسٹ پاکستان موجود رجحانات ساتھ ساتھ مقبول ویڈیوز موجود ہوں گی جبکہ ناظرین اب زیادہ سانی اپنے ملک مقبول مواد زیادہ زیادہ متعلقہ مقامی مواد تلاش کرسکتے ہیںاس سوال جواب متنازع ویڈیوز سائٹ ہٹانے حوالے گوگل کن پیرامیٹرز خیال رکھے گا ترجمان کہنا تھا جب ہم مقامی طور یوٹیوب غازکیا تو ہمیں بتادیا گیا تھا جو ویڈیو ملک غیر قانونی ہوگی ہم مکمل جائزہ لینے بعد تک رسائی محدود کرسکتے ٹرانسپیرنسی رپورٹ مطابق حکومت جانب کسی مواد ہٹانے درخواست گوگل قبول نہیں گوگل جانب 2015 ریاستی حکام ساتھ کم از کم صارف ڈیٹا شیئر گیا ہے2012 پاکستان یوٹیوب بندش بعد ڈیجیٹل حقوق کارکن بحالی سرگرم تاہم بہت گروپس گوگل جانب مقامی ڈومین متعارف کروانے اپنے خدشات اظہار اقدام حوالے ہونے والے معاہدے شفافیت نہ ہونے خدشات اظہار ہےڈیجیٹل رائٹس فاونڈیشن ویب سائٹ جاری بیان کہا گیا بظاہر یوٹیوب بحالی حوالے گوگل پی ٹی اے درمیان ہونے والے معاہدے شرائط واضح طور پیش جانا چاہیےیاد رہے جنوبی جنوب مشرقی ایشیا گوگل پبلک پالیسی حکومتی امور عہدیدار دنوں اسلام باد دورے جہاں وہ مختلف اسٹیک ہولڈرز ملاقاتیں کریں گے تاہم متعلقہ سرکاری حکام ملاقات حوالے کوئی سرکاری بیان سامنے نہیں یا ہےیہ خبر 14 جنوری 2016 ڈان اخبار شائع ہوئیپ موبائل فون صارف تو باخبر رہنے کیلئے ڈان نیوز فری انڈرائیڈ ایپ ڈان لوڈ کریں\n",
      "\n",
      "\n",
      "Sample 7:\n",
      "Actual Label: Sports\n",
      "Predicted Label: Sports\n",
      "News Text: اجمل حفیظ بالنگ ایکشنز ٹیسٹ چنئی ہوگا اسلام باد معطلی شکار اسپنرز سعید اجمل محمد حفیظ ئندہ ہفتے بالنگ ایکشن غیر رسمی ٹیسٹ سلسلے ہندوستان روانہ ہوں گےپاکستان کرکٹ بورڈ چیئرمین شہریار خان مطابق دونوں کھلاڑیوں چنئی واقع ئی سی سی منظور شدہ لیبارٹری ٹیسٹ منتخب ہےانہوں کہا اگر ٹیسٹ نتیجہ اجمل حفیظ حق یا تو پھر ئی سی سی باضابطہ ٹیسٹ درخواست جائے گی اجمل ستمبر جبکہ حفیظ رواں ماہ انٹرنیشنل کرکٹ بالنگ کرنے معطل کردیئے گئےانہوں امید اظہار دونوں کھلاڑی پاکستان ورلڈ کپ اسکواڈ حصہ بن سکیں گے\n",
      "\n",
      "\n",
      "Sample 8:\n",
      "Actual Label: Sports\n",
      "Predicted Label: Sports\n",
      "News Text: کیون پیٹرسن انگلش کانٹی سرے معاہدہ پاکستان سپر لیگ پی ایس ایل فائنل لاہور انکار کرکے انگلینڈ واپس جانے والے مایہ ناز بلےباز کیون پیٹرسن انگلش کانٹی سرے ٹی ٹوئنٹی میچوں معاہدے اعلان کردیاکیون پیٹرسن فیس بک ویڈیوپیغام کہا بریکنگ نیوز انگلینڈ کرکٹ کھیلوں گا سرے جانب ٹی ٹوئنٹی کھیلنے معاہدہ کررہا ہوںان کہنا تھا بہت زیادہ خوش ہوں دوبارہ انگلینڈ کھیلوں گا مجھے انگلینڈ کرکٹ کھیلنا بہت پسند سب اچھی بات انگلینڈ اپنے گھر رہوں گاکیون پیٹرسن کہا سیزن انگلینڈ باہر نہ جانے اصل وجہ یہی تھی طویل عرصے انگلینڈ کرکٹ نہیں کھیلی اب واپس نا چارہا تھا خیال رہے کیون پیٹرسن انڈین پریمیئر لیگ ئی پی ایل کیربیئن پریمیئرلیگ سی پی ایل دستبرداری اعلان تھامزید پڑھیںگلیڈی ایٹرز شکست وجہ غیرملکی کھلاڑیوں اخراجپیٹرسن لیگ دستبرداری حوالے کہا تھا وہ اپنے اہل خانہ ساتھ وقت گذارنا چاہتے ئی پی ایل حصہ نہیں ہوں گےنیٹ ویسٹ ٹی ٹوئنٹی رواں سال جولائی اگست کھیلی جائے گیحال ختم ہونے والی پاکستان سپر لیگ پی ایس ایل وہ کوئٹہ گلیڈی ایٹرز نمائندگی کررہے تھے جہاں انھوں بہترین کارکردگی مظاہرہ کرتےہوئے ٹیم فائنل تک پہنچانے اہم کردار ادا تھایہ پڑھیں لاہور نہ جانے تعلق عمران خان بیان نہیںکیون پیٹرسن پی ایس ایل فائنل شرکت لاہور انکار کرتے ہوئے واپس انگلینڈ جانے ترجیح دی تھی جس بعد کوئٹہ گلیڈی ایٹرز دیگر کھلاڑی لیوک رائٹ ٹائمل ملز رلی روسو فائنل دستبرداری اعلان تھایاد رہے کیون پیٹرسن ماضی انگلینڈ ڈومیسٹک کرکٹ تنقید کرتے رہے جبکہ وہ بہترین فارم باوجود بورڈ ساتھ معاملات خراب ہونے باعث انگلش ٹیم واپس نہیں جاسکے\n",
      "\n",
      "\n",
      "Sample 9:\n",
      "Actual Label: Entertainment\n",
      "Predicted Label: Entertainment\n",
      "News Text: زائرہ وسیم مداحوں اپنی تصاویر ڈیلیٹ کرنے اپیل کردی بالی وڈ خیرباد کہنے والی دنگل گرل زائرہ وسیم مداحوں اپنی تصاویر ہٹانے اپیل ہےمقبوضہ کشمیر تعلق رکھنے والی زائرہ وسیم گزشتہ سال اسلامی تعلیمات عمل کرنے کیلئے بالی وڈ خیرباد کہہ دیا تھافلمی کیریئر عزت شہرت ملی لیکن وجہ مذہب دور ہورہی تھی زائرہ وسیم سوشل میڈیا طویل بیانان فیصلے سخت تنقید گئی تھی بعد ازاں انہوں اپنے سوشل میڈیا اکانٹس بند کردیے تھےاب حال ہی سابقہ اداکارہ بار پھر مداحوں اپیل وہ فین پیجز تصاویر ہٹا دیںاپنی پوسٹ زائرہ کہنا تھا زندگی نیا دور شروع کرنے کوشش کررہی ہوں موقع مداحوں درخواست کرتی ہوں وہ میری تصاویر ہٹادیں فین پیجز ہٹانے کہیں کہنا تھا جانتی ہوں انٹرنیٹ تصاویر ہٹانا مشکل لیکن وہ پھر مداحوں درخواست کررہی میری تصاویر شیئر نہ جائیںیاد رہے زائرہ وسیم اپنا فلمی کیریئر 2016 فلم دنگل شروع جس انہوں عامر خان بیٹی کردار تھا جاندار اداکاری مداحوں بے حد پسند تھا بعد اداکارہ فلم سیکرٹ اسٹار مرکزی کردار ادا زائرہ وسیم دنگل اداکاری بہترین معاون اداکارہ نیشنل ایوارڈ دیا گیا علاوہ انہیں کئی فلمی ایوارڈ ملے\n",
      "\n",
      "\n",
      "Sample 10:\n",
      "Actual Label: Entertainment\n",
      "Predicted Label: Entertainment\n",
      "News Text: مشہور سائنس فکشن فلم سیریز سٹار وارز ٹھویں قسط عکس بندی شروع لاس اینجلس ویب ڈیسک والٹ ڈزنی لوکاز فلمز نئی سٹار وارز فلم تیاری شروع دی نئی فلم سٹار وارز ایپی سوڈ ایٹ عکس بندی مصنف ریان جانسن ڈائریکٹریشن شروع ہو گئی تفصیلات مطابق والٹ ڈزنی فلم سٹار وارز ایپی سوڈ ایٹ پروڈکشن کلپ جاری تے ہوئے کہا فلم تین سٹار وارزفلموں سلسلے دوسری کڑی جس عکس بندی لندن قریب پائن وڈ سٹوڈیوز شروع دی گئی ڈزنی سٹار وارز سلسلے خالق لوکاز فلم دوہزار بارہ چار اعشاریہ صفر پانچ ارب ڈالر خریدا تھا سٹار وارز تین فلمیں بنانے اعلان تھا جے جے ابراہم ڈائریکشن بننے والی سلسلے پہلی فلم سٹار وارز فورس اویکنز حال ہی ریلیز ہوئی مدنی کئی ریکارڈ توڑ چکی فلم کاسٹ مارک ہیمل کیری فشر ایڈم ڈرائیور ڈیزی ریڈلی جان بوئیگا شامل فلم ئندہ سال دسمبر ریلیز ہو گی\n",
      "\n",
      "\n",
      "Sample 11:\n",
      "Actual Label: Entertainment\n",
      "Predicted Label: Entertainment\n",
      "News Text: جیل اداکار سنجے دت شاعر بنا دیا ممبئیمجرم جیل گیا شاعر باہر ایا بالی ووڈ منا بھائی سنجے دت پہلا شعری مجموعہ سلاخیں نام شائع ہوگاجیل ساڑھے تین سال قید دوران کرسیاں تھیلیاں بناتے بناتے سنجو بابا شاعر بن گئے پونے جیل رہائی بعد سنجے دت اپنی شاعری کتاب شائع کرنے اعلان کتاب نام ہوگا سلاخیں جیل سنجے دت اپنے دو قیدی ساتھیوں ذیشان سمیر ساتھ خوب شاعری تینوں تقریبا 500 اشعار لکھے جن کم بیش 100 اشعار بذات خود منا بھائی شاعری مجموعہ بہت جلد سنجے مداحوں سامنے ہوگا جس کئی اشعار حقیقی واقعات متاثر ہوکر کہے گئے\n",
      "\n",
      "\n",
      "Sample 12:\n",
      "Actual Label: Sports\n",
      "Predicted Label: Sports\n",
      "News Text: جویریہ خان ورلڈ ٹی ٹونٹی باہر ہونے خدشہ کراچیپاکستان ویمن کرکٹ ٹیم کھلاڑی جویریہ خان ورلڈ ٹی ٹونٹی باہر ہونے خدشہ جویریہ خان گزشتہ روز چنئی ویسٹ انڈیز خلاف میچ دوران زخمی ہو گئی تھیں گیند انگوٹھے گیند لگنے بعد گردن لگی جس وجہ وہ بے ہوش ہو گئیں جویریہ وقت چنئی اسپتال زیر علاج وہ شام تک ڈاکٹرز نگرانی رہیں گیجویریہ خان انگوٹھے فریکچر خدشہ ظاہر جا رہا ہےمینجمنٹ رپورٹس انتظار جس بعد جویریہ خان متبادل کھلاڑی اعلان جائے گا پاکستان ویمن ٹیم اج چنئی دہلی روانہ ہو رہی\n",
      "\n",
      "\n",
      "Sample 13:\n",
      "Actual Label: Sports\n",
      "Predicted Label: Sports\n",
      "News Text: بھوت خوف حارث سہیل بلاول بھٹی کمرے منتقل ویلنگٹن پاکستان کرکٹ ٹیم بلے باز حارث سہیل مبینہ طور بھوت جانب دھی رات اٹھائے جانے بعد کمرے اکیلے رہنے گھبراہٹ شکار ہیںحارث دو روز قبل رات سوتے ہوئے اپنے کمرے کسی پراسرار بھوت موجودگی بعد خوف شکار ہوگئے تھے خوف باعث حارث سہیل بخار مبتلا ہوگئے تھے جبکہ انہوں پہلے ٹور میچ شرکت نہیں تھیٹیم ذرائع مطابق پاکستانی ٹیم اب پہلا ون ڈے کھیلنے ویلنگٹن پہنچ گئی تاہم نوجوان بلے باز اب اپنےکمرے اکیلے نہیں سوتے صورت حال پیش نظر فاسٹ بالر بلاول بھٹی حارث ہی کمرے منتقل کردیا گیا زرائع مطابق حارث اب بہتر محسوس کررہے اپنا فوکس نیوزلینڈ کیساتھ دو ون ڈے میچیز مرکوز کیے ہوئے حارث حال ہی سیالکوٹ شادی ہوئی جس بعد وہ ورلڈ کپ ٹیم حصہ بنے چھبیس سالہ بائیں ہاتھ بلے باز ابتک وہ نو ون ڈے میچیز پاکستان نمائندگی کرچکے\n",
      "\n",
      "\n",
      "Sample 14:\n",
      "Actual Label: Sports\n",
      "Predicted Label: Sports\n",
      "News Text: پی ایس ایل لاہور قلندرز سلو اوور ریٹ جرمانہ پاکستان سپرلیگ پی ایس ایل سیزن کامیابی جاری تاہم جہاں لاہور قلندرز ٹیم اب تک کوئی کامیابی نہیں سمیٹ سکی وہی اسے مشکل سامنا کرنا پڑ گیاپاکستان کرکٹ بورڈ پی سی بی اسلام باد لاہور قلندرز میچ دوران سلو اوور ریٹ قلندرز جرمانہ عائد کردیا حوالے جاری اعلامیے کہا گیا پی ایس ایل 2020 دوران لاہور قذافی اسٹیڈیم اتوار کھیلے گئے میچ لاہور قلندرز مقررہ وقت اوورز کم کیے جس فائنل الیون شامل تمام کھلاڑیوں میچ فیس 10 فیصد جرمانہ عائد گیااعلامیے بتایا گیا جرمانہ پی ایس ایل ضابطہ اخلاق برائے کھلاڑی کھیل اسٹاف شق 222 تحت لگایا گیاساتھ ہی بتایا گیا قوانین مطابق اگر اگلے کسی میچ لاہور قلندرز ٹیم سلو اوور ریٹ ہوا تو ٹیم تمام کھلاڑیوں میچ فیس 20 فیصد جرمانہ عائد جائے گاخیال رہے اتوار شب قذافی اسٹیڈیم کھیلے گئے میچ اسلام باد یونائیٹڈ سنسنی خیز مقابلے بعد لاہور قلندرز وکٹ شکست دی تھیلاہور ٹیم پہلے کھیلتے ہوئے محمد حفیظ شاندار 98 رنز بدولت 182 رنز بنائے تھے اسلام باد 20 اوورز جیت 183 رنز ہدف دیا تھاجس بعد لاہور بالنگ غاز اچھے انداز تھا رنز ہی اسلام باد یونائیٹڈ دونوں اہم بلے بازوں پویلین راہ دکھائی تھی تاہم بعد بننے والی پارٹنر شپ ٹیم سہارا دیا تھاتاہم پارٹنرشپ توڑنے بعد لاہور مرتبہ پھر میچ واپس یا تھا شاہین شاہ فریدی یونائیٹڈ اہم کھلاڑیوں کرکے اپنی ٹیم میچ جیتنے راہ ہموار لیکن وہ ٹیم فتح نہ دلواسکےلاہور قلندرز شاہین شاہ بہترین بالنگ بدولت اسلام باد کھلاڑیوں کردیا تھا لیکن خری بلے باز محمد موسی جارحانہ بیٹنگ کرتے ہوئے خری اوور رنز بنا اپنی ٹیم فتح ہمکنار کروایا\n",
      "\n",
      "\n",
      "Sample 15:\n",
      "Actual Label: Entertainment\n",
      "Predicted Label: Entertainment\n",
      "News Text: بالی ووڈ فلم لٹیرا نئے گانےزندہ ہوںکی وڈیوریلیز ممبئی این جی ٹی بالی ووڈکی دبنگ ہیروئن سوناکشی سنہا بینڈ باجا بارات بالی وڈ قدم رکھنے والے ہیرو رنویر سنگھ بحیثیت ہیرو ہیروئن پہلی رومانٹک ڈرامہ فلملٹیراکے ٹریلر بعدنئے گانے وڈیو منظر عام گئی ہےامیتابھ بھٹاچاریہ تحریر کردہزندہ ہوں یارکافی ہےکے بولوں مبنی گانے کوفلم موسیقی ترتیب دینے والے موسیقار امیت ترویدی خود اپنی واز ریکارڈ فلم اڑان شہرت حاصل کرنے والے ہدایتکار وکرم ادیتیہ موٹوانی فلم کیساتھ ساتھ بالاجی ٹیلی فلمز ایکتا شوبھا کپور وکاس بہلانوراگ کیشپ اورمدھو مانٹینا پروڈیوس ہےاس فلم اسکرین پلے خود وکرم ادیتیہ موٹوانی بھاوانی ئیر کیساتھ مل تحریر جس رنویر سوناکشی سنہا کیساتھ پہلی بار رومانس کرتے نظر رہے ہیںفلم لٹیرا 1950کی دہائی رومانوی کہانی پیش گئی جس ہیروہیروئن اپنے والدین مرضی کیخلاف بھاگ شادی کرتے جو تلخ مراحل گزر نیا موڑ لے لیتی ہےڈرامہ رومانس بھرپور فلم لٹیرا بالاجی موشن پکچرز فینٹم فلمز تحت رواں سال5جولائی ریلیز جائیگی\n",
      "\n",
      "\n",
      "Sample 16:\n",
      "Actual Label: Business & Economics\n",
      "Predicted Label: Business & Economics\n",
      "News Text: کورونا بحران باعث 30 لاکھ افراد بے روزگار ہو سکتے وزارت خزانہ اسلام باد 05 جون 2020 وزارت خزانہ خدشہ ظاہر کورونا وبا باعث ملک 30 لاکھ افراد بے روزگار ہو سکتے سینیٹ وزارت خزانہ جانب جمع کرائے گئے تحریری جواب کہا گیا کورونا قبل جی ڈی پی گروتھ تخمینہ 324 فیصد تھا جب مالی سال 202019 04 فیصد منفی شرح نمو رہی رواں مالی سال اپریل جون تک ایف بی رکے ریونیو 700 900 ارب روپے تک کمی ہو گیاس طرح ایف بی ٹیکس ریونیو 3905 ارب روپے تک گر سکتا مالی خسارہ 75 فیصد بڑھ 94 فیصد ہو جائے گا وزارت خزانہ کہنا کورونا بحران باعث غربت شرح 243 فیصد بڑھ 335 فیصد ہو جائے گی پاکستان برمدات کم ہو 2122 ارب ڈالرز رہیں گی جب بیرون ملک کام کرنے والے مزدوروں ترسیلات ارب ڈالرز کمی ہو گی کورونا بحران باعث 30 لاکھ افراد بے روزگار ہو سکتے کورونا بحران باعث 30 لاکھ افراد بے روزگار ہو سکتے\n",
      "\n",
      "\n",
      "Sample 17:\n",
      "Actual Label: Sports\n",
      "Predicted Label: Sports\n",
      "News Text: دبئی ون ڈےاسٹریلیا پاکستان پانچ وکٹوں ہرادیا دبئیاسٹریلیا پاکستان دوسرے روزہ انٹرنیشنل میچ پانچ وکٹوں شکست دیکر تین میچوں سیریز دو صفر برتری حاصل لی ہےجبکہ سیریز اخری میچ ابھی باقی ہےدبئی انٹرنیشنل کرکٹ اسٹیڈیم کھیلے جانے والے میچ اسٹریلیا پاکستان جانب دیئے گئے 216کا ہدف 432اوورز پانچ وکٹیں کھوکر حاصل کرلیاکینگروز جانب میکسویل 76رنز شاندار باری کھیلی انکے علاوہ ڈیوڈ وارنر 29کپتان جارج بیلی 28اور جیمز فالکر 26دوسرے قابل ذکر بیٹسمین تھےاس قبل پاکستان ٹیم ٹاس جیت پہلے بیٹنگ 493اوورز 215رنز بناکر ائوٹ ہوگئیپاکستان جانب ذوالفقار بابر دو جبکہ رضا حسن محمد عرفان وکٹ اپنے نام کیدونوں ٹیموں درمیان تیسرا اخری میچ اتوار کھیلا جائے گا\n",
      "\n",
      "\n",
      "Sample 18:\n",
      "Actual Label: Entertainment\n",
      "Predicted Label: Science & Technology\n",
      "News Text: نیا ئی فون ئی پیڈ سامنے تیار ایپل جانب ئی فون سکس ایس کل متعارف کرایا جارہا مگر معروف کمپنی ساتھ ایپل ٹی وی اب تک سب بڑا ئی پیڈ ٹیبلیٹ پیش کرسکتی ہےایپل جانب تو حوالے اب تک کوئی بات نہیں گئی مگر ایسی رپورٹس ضرور سامنے رہی حالیہ برسوں ایپل سب بڑی تقریب ثابت ہوسکتی ہےایپل جانب 129 انچ اسکرین ئی پیڈ پرو ئی فون ساتھ متعارف کرائے جانے امکان جو فروخت نومبر پیش جائے گااس ٹیبلیٹ قیمت 1299 ڈالرز ہوسکتی کئی نئے فیچرز شامل کیے جارہے جس ملٹی ٹاسکنگ سان ہوجائے گیاسی طرح ایپل جانب ئی او ایس نائن تقریب باضابطہ طور متعارف کرایا جائے گا جس جھلک جون پہلے ہی پیش جاچکی ہےایسا امکنا ئی او ایس نائن نو ستمبر ہی ڈان لوڈ دستیاب ہوگاتاہم سب انتظار نئے ئی فون دو نئے ماڈلز جن نام ممکنہ طور ئی فون سکس ایس ئی فون سکس ایس پلس ہوسکتا ہےیہ نئے ئی فون گزشتہ برس مقابلے زیادہ پتلے فورس ٹچ اسکرین لیس فیچر لیس ہوں گے جبکہ 12 میگاپکسلز رئیر کیمرے ئی او ایس نائن پریٹنگ سسٹم حصہ ہوں گے\n",
      "\n",
      "\n",
      "Sample 19:\n",
      "Actual Label: Science & Technology\n",
      "Predicted Label: Science & Technology\n",
      "News Text: میسجنگ اپلیکشن صارفین غیرمحفوظ اینڈ ٹو اینڈ انکرپشن جیسے فیچر فراہم کرنے والی مقبول میسجنگ اپلیکشنز جیسے فیس بک میسنجر واٹس ایپ وائبر صارفین حساس معلومات ہیکنگ حوالے نہایت کمزور ہےیہ دعوی امریکا ہونے والی تحقیق سامنے یابرگھم ینگ یونیورسٹی تحقیق دریافت گیا فیس بک میسنجر واٹس ایپ وائبر جیسی مقبول ترین میسجنگ اپلیکشنز صارفین فراڈ یا ہیکنگ خطرے دوچار ہوتے کیونکہ وہ اہم سیکیورٹی پشنز جیسے وغیرہ لاعلم ہوتے ہیںمزید پڑھیں واٹس ایپ صارفین ڈیٹا تحفظ ناکام فیچر سیکیورٹی پرایکٹس طور جو بات یقینی بناتا کمیونیکشن شامل افراد مستند یا نہیںاس مقصد وہ بھیجنے والے پیغامات حساس یا اہم معلومات شناخت کرتا ہےتاہم چونکہ بیشتر افراد اہمیت بلکہ فیچر ہی لاعلم ہوتے اسی تھرڈ پارٹی حملہ کرنا سان ہوجاتا ہےاس مقصد محققین مختلف تجربات کیے نتائج معلوم ہوا بیشتر افراد سیکیورٹی فیچرز سمجھنے استعمال کرنے قاصر ہوتے کیونکہ انہیں سیکیورٹی مسائل تجربہ جو نہیں ہوتایہ پڑھیں یوٹیوب میسجنگ سروس متعارفمگر لائن بات چیت دوران ہمیشہ خطرہ موجود ہوتا جو کسی وقت انہیں نشانہ بناسکتا ہےاس پہلے گزشتہ ماہ بات سامنے ئی تھی واٹس ایپ اپنے صارفین ڈیٹا حکومتوں بچانے خاطر خواہ اقدامات نہیں کررہییہ دعوی ڈیجیٹل ائٹس گروپ الیکٹرونک فرنٹیئر فانڈیشن کرتے ہوئے میسجنگ ایپ اپنی سالانہ رپورٹ صارفین تحفظ حوالے سب بدترین قرار دیا ہےواٹس ایپ تنقید وقت جارہی جب جانب اینڈ ٹو اینڈ انکرپشن متعارف کرانے سمیت لوگوں پیغامات کسی حوالے کرنے انکار گیا\n",
      "\n",
      "\n",
      "Sample 20:\n",
      "Actual Label: Entertainment\n",
      "Predicted Label: Entertainment\n",
      "News Text: فلم ہنسی تو پھنسی نئے گانےشیک اٹ لائیک شمیکی وڈیو جاری ممبئی این جی ٹی پری نیتی چوپڑا سدھارتھ ملہوترا جوڑی پہلی بار ساتھفلمساز ہدایتکار کرن جوہر دھرما پروڈکشنز پری نیتی چوپڑا سدھارتھ ملہوترا نئی رومانٹک کامیڈی فمہنسی تو پھنسیکے ٹریلر بعد نئے گانے وڈیو جاری کردی گئیامیتابھ بھٹاچاریہ تحریر کردہشیک اٹ لائیک شمیکے بولوں مبنی گانے بینی ڈیال وشال ڈالڈانی واز ریکارڈ گیا جسکی وڈیو سدھارتھ ملہوترا دہا شرما کیساتھ کلب ڈانس کرتے نظر رہے ہیںہدایتکار ونیل میتھیوکی فلم سدھارتھ پری نیتی کیساتھ دہا شرما اہم کردار ادا کررہی ہیںفلمسازو ہدایتکار کرن جوہر انوراگ کیشپ پروڈیوس کردہ فلم کہانی میتاپری نیتیاور نکہیلسدھارتھ گرد گھومتی جو غیر معمولی حالات ملتے پھر دوسرے محبت گرفتار ہوجاتے کامیڈی رومانس بھرپور فلم ہنسی تو پھنسی دھرما پروڈکشنز بینر تلے رواں سال7فروری سینما گھروں زینت بنے گی جسکا میوزک موسیقار جوڑی وشال شیکھر ترتیب دیا\n",
      "\n",
      "\n"
     ]
    }
   ],
   "source": [
    "# Convert predicted labels back to numerical form\n",
    "y_pred_numeric = np.argmax(y_pred_onehot, axis=1)\n",
    "y_pred_original = label_encoder.inverse_transform(y_pred_numeric)\n",
    "\n",
    "# Convert actual labels back to numerical form\n",
    "y_test_numeric = np.argmax(y_test_onehot, axis=1)\n",
    "y_test_original = label_encoder.inverse_transform(y_test_numeric)\n",
    "\n",
    "# Display 5 news samples with actual and predicted labels\n",
    "for i in range(20):\n",
    "    print(f\"Sample {i+1}:\")\n",
    "    print(f\"Actual Label: {y_test_original[i]}\")\n",
    "    print(f\"Predicted Label: {y_pred_original[i]}\")\n",
    "    print(f\"News Text: {X_joined[i]}\")\n",
    "    print(\"\\n\")"
   ]
  },
  {
   "cell_type": "code",
   "execution_count": null,
   "id": "f364a2f9",
   "metadata": {
    "papermill": {
     "duration": 0.63669,
     "end_time": "2023-12-10T23:14:35.036919",
     "exception": false,
     "start_time": "2023-12-10T23:14:34.400229",
     "status": "completed"
    },
    "tags": []
   },
   "outputs": [],
   "source": []
  },
  {
   "cell_type": "code",
   "execution_count": null,
   "id": "26dd645a",
   "metadata": {
    "papermill": {
     "duration": 0.643144,
     "end_time": "2023-12-10T23:14:36.370083",
     "exception": false,
     "start_time": "2023-12-10T23:14:35.726939",
     "status": "completed"
    },
    "tags": []
   },
   "outputs": [],
   "source": []
  },
  {
   "cell_type": "code",
   "execution_count": null,
   "id": "ec0a2772",
   "metadata": {
    "papermill": {
     "duration": 0.634114,
     "end_time": "2023-12-10T23:14:37.638261",
     "exception": false,
     "start_time": "2023-12-10T23:14:37.004147",
     "status": "completed"
    },
    "tags": []
   },
   "outputs": [],
   "source": []
  },
  {
   "cell_type": "code",
   "execution_count": null,
   "id": "f6651923",
   "metadata": {
    "papermill": {
     "duration": 0.638325,
     "end_time": "2023-12-10T23:14:38.981438",
     "exception": false,
     "start_time": "2023-12-10T23:14:38.343113",
     "status": "completed"
    },
    "tags": []
   },
   "outputs": [],
   "source": []
  },
  {
   "cell_type": "code",
   "execution_count": null,
   "id": "5ca1c491",
   "metadata": {
    "papermill": {
     "duration": 0.642127,
     "end_time": "2023-12-10T23:14:40.259065",
     "exception": false,
     "start_time": "2023-12-10T23:14:39.616938",
     "status": "completed"
    },
    "tags": []
   },
   "outputs": [],
   "source": []
  },
  {
   "cell_type": "code",
   "execution_count": null,
   "id": "e6ed1214",
   "metadata": {
    "papermill": {
     "duration": 0.634026,
     "end_time": "2023-12-10T23:14:41.611801",
     "exception": false,
     "start_time": "2023-12-10T23:14:40.977775",
     "status": "completed"
    },
    "tags": []
   },
   "outputs": [],
   "source": []
  },
  {
   "cell_type": "code",
   "execution_count": null,
   "id": "c1eb6a8d",
   "metadata": {
    "papermill": {
     "duration": 0.636758,
     "end_time": "2023-12-10T23:14:42.903646",
     "exception": false,
     "start_time": "2023-12-10T23:14:42.266888",
     "status": "completed"
    },
    "tags": []
   },
   "outputs": [],
   "source": []
  },
  {
   "cell_type": "code",
   "execution_count": null,
   "id": "aab1a3ec",
   "metadata": {
    "papermill": {
     "duration": 0.697035,
     "end_time": "2023-12-10T23:14:44.236426",
     "exception": false,
     "start_time": "2023-12-10T23:14:43.539391",
     "status": "completed"
    },
    "tags": []
   },
   "outputs": [],
   "source": []
  }
 ],
 "metadata": {
  "kaggle": {
   "accelerator": "nvidiaTeslaT4",
   "dataSources": [
    {
     "datasetId": 4093621,
     "sourceId": 7101328,
     "sourceType": "datasetVersion"
    },
    {
     "datasetId": 4116248,
     "sourceId": 7133991,
     "sourceType": "datasetVersion"
    }
   ],
   "dockerImageVersionId": 30588,
   "isGpuEnabled": true,
   "isInternetEnabled": true,
   "language": "python",
   "sourceType": "notebook"
  },
  "kernelspec": {
   "display_name": "Python 3",
   "language": "python",
   "name": "python3"
  },
  "language_info": {
   "codemirror_mode": {
    "name": "ipython",
    "version": 3
   },
   "file_extension": ".py",
   "mimetype": "text/x-python",
   "name": "python",
   "nbconvert_exporter": "python",
   "pygments_lexer": "ipython3",
   "version": "3.10.12"
  },
  "papermill": {
   "default_parameters": {},
   "duration": 7962.476152,
   "end_time": "2023-12-10T23:14:48.212952",
   "environment_variables": {},
   "exception": null,
   "input_path": "__notebook__.ipynb",
   "output_path": "__notebook__.ipynb",
   "parameters": {},
   "start_time": "2023-12-10T21:02:05.736800",
   "version": "2.4.0"
  }
 },
 "nbformat": 4,
 "nbformat_minor": 5
}
